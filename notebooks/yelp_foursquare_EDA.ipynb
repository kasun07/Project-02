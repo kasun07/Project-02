{
 "cells": [
  {
   "cell_type": "code",
   "execution_count": 1,
   "metadata": {},
   "outputs": [],
   "source": [
    "import requests\n",
    "import os\n",
    "\n",
    "foursquare_api_key = os.getenv('Foursquare_api_key')\n",
    "yelp_api_key = os.getenv('Yelp_api_key')"
   ]
  },
  {
   "cell_type": "markdown",
   "metadata": {},
   "source": [
    "# Foursquare"
   ]
  },
  {
   "cell_type": "markdown",
   "metadata": {},
   "source": [
    "Send a request to Foursquare with a small radius (1000m) for all the bike stations in your city of choice. "
   ]
  },
  {
   "cell_type": "code",
   "execution_count": 2,
   "metadata": {},
   "outputs": [
    {
     "name": "stdout",
     "output_type": "stream",
     "text": [
      "Response is success\n"
     ]
    }
   ],
   "source": [
    "foursquare_url = \"https://api.foursquare.com/v3/places/search?radius=1000\"\n",
    "\n",
    "foursquare_headers = {\n",
    "    \"accept\": \"application/json\",\n",
    "    \"Authorization\": f\"{foursquare_api_key}\"\n",
    "}\n",
    "\n",
    "response = requests.get(foursquare_url, headers=foursquare_headers)\n",
    "\n",
    "# check the request format and whether response is success or not\n",
    "if response.status_code == 200:\n",
    "    response_json = response.json()\n",
    "    print(\"Response is success\")\n",
    "\n",
    "else:\n",
    "    print(f\"Error: {response.status_code}, {response.text}\")"
   ]
  },
  {
   "cell_type": "markdown",
   "metadata": {},
   "source": [
    "Parse through the response to get the POI (such as restaurants, bars, etc) details you want (ratings, name, location, etc)"
   ]
  },
  {
   "cell_type": "markdown",
   "metadata": {},
   "source": [
    "Put your parsed results into a DataFrame"
   ]
  },
  {
   "cell_type": "code",
   "execution_count": 3,
   "metadata": {},
   "outputs": [
    {
     "name": "stdout",
     "output_type": "stream",
     "text": [
      "                                                    0\n",
      "0   b'{\"results\":[{\"fsq_id\":\"57a24949498ed4f80f6eb...\n",
      "1   b'tor\",\"plural_name\":\"Fence Contractors\",\"icon...\n",
      "2   b'}}],\"chains\":[],\"closed_bucket\":\"LikelyOpen\"...\n",
      "3   b'nk\":\"/v3/places/57a24949498ed4f80f6eb780\",\"l...\n",
      "4   b'_address\":\"695 Secord Blvd NW, Edmonton AB T...\n",
      "..                                                ...\n",
      "62  b'Edmonton AB T5T 4K5\",\"locality\":\"Edmonton\",\"...\n",
      "63  b'places\":{\"parent\":{\"fsq_id\":\"57d6e90bcd10062...\n",
      "64  b'Plaza\",\"plural_name\":\"Shopping Plazas\",\"icon...\n",
      "65  b'\"name\":\"West Henday Promenade\"}},\"timezone\":...\n",
      "66       b',\"longitude\":-113.6579},\"radius\":1000}}}}'\n",
      "\n",
      "[67 rows x 1 columns]\n"
     ]
    }
   ],
   "source": [
    "import pandas as pd\n",
    "\n",
    "params = {\n",
    "    'radius': 1000,\n",
    "    'll': '40.7243,-74.0018',\n",
    "    'query': 'coffee',\n",
    "}\n",
    "foursquare_response = requests.get(foursquare_url, headers=foursquare_headers)\n",
    "df_foursquare_response = pd.DataFrame(response)\n",
    "print(df_foursquare_response)\n",
    "\n",
    "# saving as a csv file and it's easy to explore the data\n",
    "df_foursquare_response.to_csv(\"C:/Users/kasun/Desktop/Data Analytics/Project 02/practice test/foursqaure.csv\")"
   ]
  },
  {
   "cell_type": "markdown",
   "metadata": {},
   "source": [
    "# Yelp"
   ]
  },
  {
   "cell_type": "markdown",
   "metadata": {},
   "source": [
    "Send a request to Yelp with a small radius (1000m) for all the bike stations in your city of choice. "
   ]
  },
  {
   "cell_type": "code",
   "execution_count": 4,
   "metadata": {},
   "outputs": [
    {
     "name": "stdout",
     "output_type": "stream",
     "text": [
      "Response is success\n"
     ]
    }
   ],
   "source": [
    "yelp_url = \"https://api.yelp.com/v3/businesses/search\"\n",
    "yelp_params = {\n",
    "    'location' : 'NYC'\n",
    "}\n",
    "\n",
    "yelp_headers = {\n",
    "    \"accept\": \"application/json\",\n",
    "    \"Authorization\": f\"{yelp_api_key}\"\n",
    "}\n",
    "\n",
    "response = requests.get(yelp_url, headers=yelp_headers, params=yelp_params)\n",
    "\n",
    "# check the request format and whether response is success or not\n",
    "if response.status_code == 200:\n",
    "    response_json = response.json()\n",
    "    print(\"Response is success\")\n",
    "\n",
    "else:\n",
    "    print(f\"Error: {response.status_code}, {response.text}\")"
   ]
  },
  {
   "cell_type": "markdown",
   "metadata": {},
   "source": [
    "Parse through the response to get the POI (such as restaurants, bars, etc) details you want (ratings, name, location, etc)"
   ]
  },
  {
   "cell_type": "markdown",
   "metadata": {},
   "source": [
    "Put your parsed results into a DataFrame"
   ]
  },
  {
   "cell_type": "code",
   "execution_count": 5,
   "metadata": {},
   "outputs": [
    {
     "name": "stdout",
     "output_type": "stream",
     "text": [
      "{\"businesses\": [{\"id\": \"Rj2ACaJcbroJLPDhRhzvBw\", \"alias\": \"shuka-new-york-3\", \"name\": \"Shuka\", \"image_url\": \"https://s3-media2.fl.yelpcdn.com/bphoto/mx112hxMlB1S8zl9GI9dBg/o.jpg\", \"is_closed\": false, \"url\": \"https://www.yelp.com/biz/shuka-new-york-3?adjust_creative=TjDufAyIueJO_Ru4-mN-IA&utm_campaign=yelp_api_v3&utm_medium=api_v3_business_search&utm_source=TjDufAyIueJO_Ru4-mN-IA\", \"review_count\": 1101, \"categories\": [{\"alias\": \"mediterranean\", \"title\": \"Mediterranean\"}, {\"alias\": \"cocktailbars\", \"title\": \"Cocktail Bars\"}, {\"alias\": \"breakfast_brunch\", \"title\": \"Breakfast & Brunch\"}], \"rating\": 4.3, \"coordinates\": {\"latitude\": 40.72707, \"longitude\": -74.00283}, \"transactions\": [\"delivery\", \"pickup\"], \"price\": \"$$\", \"location\": {\"address1\": \"38 MacDougal St\", \"address2\": \"\", \"address3\": null, \"city\": \"New York\", \"zip_code\": \"10012\", \"country\": \"US\", \"state\": \"NY\", \"display_address\": [\"38 MacDougal St\", \"New York, NY 10012\"]}, \"phone\": \"+12124757500\", \"display_phone\": \"(212) 475-7500\", \"distance\": 318.2274507314147, \"business_hours\": [{\"open\": [{\"is_overnight\": false, \"start\": \"1200\", \"end\": \"1600\", \"day\": 0}, {\"is_overnight\": false, \"start\": \"1700\", \"end\": \"2200\", \"day\": 0}, {\"is_overnight\": false, \"start\": \"1200\", \"end\": \"1600\", \"day\": 1}, {\"is_overnight\": false, \"start\": \"1700\", \"end\": \"2300\", \"day\": 1}, {\"is_overnight\": false, \"start\": \"1200\", \"end\": \"1600\", \"day\": 2}, {\"is_overnight\": false, \"start\": \"1700\", \"end\": \"2300\", \"day\": 2}, {\"is_overnight\": false, \"start\": \"1200\", \"end\": \"1600\", \"day\": 3}, {\"is_overnight\": false, \"start\": \"1700\", \"end\": \"2300\", \"day\": 3}, {\"is_overnight\": false, \"start\": \"1200\", \"end\": \"1600\", \"day\": 4}, {\"is_overnight\": false, \"start\": \"1700\", \"end\": \"2300\", \"day\": 4}, {\"is_overnight\": false, \"start\": \"1030\", \"end\": \"1530\", \"day\": 5}, {\"is_overnight\": false, \"start\": \"1700\", \"end\": \"2300\", \"day\": 5}, {\"is_overnight\": false, \"start\": \"1030\", \"end\": \"1530\", \"day\": 6}, {\"is_overnight\": false, \"start\": \"1700\", \"end\": \"2200\", \"day\": 6}], \"hours_type\": \"REGULAR\", \"is_open_now\": true}], \"attributes\": {\"business_temp_closed\": null, \"menu_url\": \"https://www.shukanewyork.com/menu\", \"open24_hours\": null, \"waitlist_reservation\": null}}, {\"id\": \"qBGKigOGn_flCx1apxPzlA\", \"alias\": \"piccola-cucina-osteria-new-york-2\", \"name\": \"Piccola Cucina Osteria\", \"image_url\": \"https://s3-media3.fl.yelpcdn.com/bphoto/NpARz4CQKQWq5kWzO10jxw/o.jpg\", \"is_closed\": false, \"url\": \"https://www.yelp.com/biz/piccola-cucina-osteria-new-york-2?adjust_creative=TjDufAyIueJO_Ru4-mN-IA&utm_campaign=yelp_api_v3&utm_medium=api_v3_business_search&utm_source=TjDufAyIueJO_Ru4-mN-IA\", \"review_count\": 834, \"categories\": [{\"alias\": \"italian\", \"title\": \"Italian\"}], \"rating\": 4.3, \"coordinates\": {\"latitude\": 40.72503127956934, \"longitude\": -74.0032820972858}, \"transactions\": [\"delivery\", \"pickup\"], \"price\": \"$$\", \"location\": {\"address1\": \"196 Spring St\", \"address2\": \"\", \"address3\": \"\", \"city\": \"New York\", \"zip_code\": \"10012\", \"country\": \"US\", \"state\": \"NY\", \"display_address\": [\"196 Spring St\", \"New York, NY 10012\"]}, \"phone\": \"+16464787488\", \"display_phone\": \"(646) 478-7488\", \"distance\": 149.0332512554896, \"business_hours\": [{\"open\": [{\"is_overnight\": false, \"start\": \"1700\", \"end\": \"2300\", \"day\": 0}, {\"is_overnight\": false, \"start\": \"1700\", \"end\": \"2300\", \"day\": 1}, {\"is_overnight\": false, \"start\": \"1700\", \"end\": \"2300\", \"day\": 2}, {\"is_overnight\": false, \"start\": \"1700\", \"end\": \"2300\", \"day\": 3}, {\"is_overnight\": false, \"start\": \"1700\", \"end\": \"2300\", \"day\": 4}, {\"is_overnight\": false, \"start\": \"1130\", \"end\": \"2300\", \"day\": 5}, {\"is_overnight\": false, \"start\": \"1130\", \"end\": \"2300\", \"day\": 6}], \"hours_type\": \"REGULAR\", \"is_open_now\": true}], \"attributes\": {\"business_temp_closed\": null, \"menu_url\": \"https://www.piccolacucinagroup.com/wp-content/uploads/2021/11/menu-piccola-cucina-osteria-spring-nyc-ott2021.pdf\", \"open24_hours\": null, \"waitlist_reservation\": null}}, {\"id\": \"D2qV8sDdHEFlHbVz7VSHRQ\", \"alias\": \"black-tap-new-york-11\", \"name\": \"Black Tap\", \"image_url\": \"https://s3-media3.fl.yelpcdn.com/bphoto/OcUOCoFyhhBjYdO9vJkweg/o.jpg\", \"is_closed\": false, \"url\": \"https://www.yelp.com/biz/black-tap-new-york-11?adjust_creative=TjDufAyIueJO_Ru4-mN-IA&utm_campaign=yelp_api_v3&utm_medium=api_v3_business_search&utm_source=TjDufAyIueJO_Ru4-mN-IA\", \"review_count\": 1401, \"categories\": [{\"alias\": \"tradamerican\", \"title\": \"American\"}, {\"alias\": \"burgers\", \"title\": \"Burgers\"}, {\"alias\": \"beerbar\", \"title\": \"Beer Bar\"}], \"rating\": 3.7, \"coordinates\": {\"latitude\": 40.723794, \"longitude\": -74.004193}, \"transactions\": [\"delivery\", \"pickup\"], \"price\": \"$$\", \"location\": {\"address1\": \"529 Broome St\", \"address2\": \"\", \"address3\": \"\", \"city\": \"New York\", \"zip_code\": \"10013\", \"country\": \"US\", \"state\": \"NY\", \"display_address\": [\"529 Broome St\", \"New York, NY 10013\"]}, \"phone\": \"+16469606500\", \"display_phone\": \"(646) 960-6500\", \"distance\": 209.36057003877016, \"business_hours\": [{\"open\": [{\"is_overnight\": false, \"start\": \"1200\", \"end\": \"2200\", \"day\": 0}, {\"is_overnight\": false, \"start\": \"1200\", \"end\": \"2200\", \"day\": 1}, {\"is_overnight\": false, \"start\": \"1200\", \"end\": \"2200\", \"day\": 2}, {\"is_overnight\": false, \"start\": \"1200\", \"end\": \"2200\", \"day\": 3}, {\"is_overnight\": false, \"start\": \"1100\", \"end\": \"0000\", \"day\": 4}, {\"is_overnight\": false, \"start\": \"1100\", \"end\": \"0000\", \"day\": 5}, {\"is_overnight\": false, \"start\": \"1100\", \"end\": \"2200\", \"day\": 6}], \"hours_type\": \"REGULAR\", \"is_open_now\": true}], \"attributes\": {\"business_temp_closed\": null, \"menu_url\": \"https://blacktap.com/restaurant-menu/soho/\", \"open24_hours\": null, \"waitlist_reservation\": null}}, {\"id\": \"AIKjw2QLvVNdha3TciJYzg\", \"alias\": \"boqueria-soho-new-york-2\", \"name\": \"Boqueria Soho\", \"image_url\": \"https://s3-media2.fl.yelpcdn.com/bphoto/ZLudAnqrv6dqY6gVmSZRrA/o.jpg\", \"is_closed\": false, \"url\": \"https://www.yelp.com/biz/boqueria-soho-new-york-2?adjust_creative=TjDufAyIueJO_Ru4-mN-IA&utm_campaign=yelp_api_v3&utm_medium=api_v3_business_search&utm_source=TjDufAyIueJO_Ru4-mN-IA\", \"review_count\": 1295, \"categories\": [{\"alias\": \"spanish\", \"title\": \"Spanish\"}, {\"alias\": \"tapas\", \"title\": \"Tapas Bars\"}, {\"alias\": \"tapasmallplates\", \"title\": \"Tapas/Small Plates\"}], \"rating\": 4.1, \"coordinates\": {\"latitude\": 40.7249227818105, \"longitude\": -74.00215536627918}, \"transactions\": [\"delivery\", \"pickup\"], \"price\": \"$$$\", \"location\": {\"address1\": \"171 Spring St\", \"address2\": \"\", \"address3\": \"\", \"city\": \"New York\", \"zip_code\": \"10012\", \"country\": \"US\", \"state\": \"NY\", \"display_address\": [\"171 Spring St\", \"New York, NY 10012\"]}, \"phone\": \"+12123434255\", \"display_phone\": \"(212) 343-4255\", \"distance\": 75.44779959979645, \"business_hours\": [{\"open\": [{\"is_overnight\": false, \"start\": \"1130\", \"end\": \"2200\", \"day\": 0}, {\"is_overnight\": false, \"start\": \"1130\", \"end\": \"2200\", \"day\": 1}, {\"is_overnight\": false, \"start\": \"1130\", \"end\": \"2200\", \"day\": 2}, {\"is_overnight\": false, \"start\": \"1130\", \"end\": \"2200\", \"day\": 3}, {\"is_overnight\": false, \"start\": \"1130\", \"end\": \"2300\", \"day\": 4}, {\"is_overnight\": false, \"start\": \"1100\", \"end\": \"2300\", \"day\": 5}, {\"is_overnight\": false, \"start\": \"1100\", \"end\": \"2200\", \"day\": 6}], \"hours_type\": \"REGULAR\", \"is_open_now\": true}], \"attributes\": {\"business_temp_closed\": null, \"menu_url\": null, \"open24_hours\": null, \"waitlist_reservation\": null}}, {\"id\": \"qEe7nIhPfEL6L0-VYhWRrA\", \"alias\": \"raku-new-york-6\", \"name\": \"Raku\", \"image_url\": \"https://s3-media1.fl.yelpcdn.com/bphoto/n1Ij-r1JkpHmoRgL-1E_FA/o.jpg\", \"is_closed\": false, \"url\": \"https://www.yelp.com/biz/raku-new-york-6?adjust_creative=TjDufAyIueJO_Ru4-mN-IA&utm_campaign=yelp_api_v3&utm_medium=api_v3_business_search&utm_source=TjDufAyIueJO_Ru4-mN-IA\", \"review_count\": 1027, \"categories\": [{\"alias\": \"japanese\", \"title\": \"Japanese\"}, {\"alias\": \"noodles\", \"title\": \"Noodles\"}], \"rating\": 4.5, \"coordinates\": {\"latitude\": 40.7272479, \"longitude\": -74.00253944171621}, \"transactions\": [\"delivery\", \"pickup\"], \"price\": \"$$\", \"location\": {\"address1\": \"48 Macdougal St\", \"address2\": null, \"address3\": \"\", \"city\": \"New York\", \"zip_code\": \"10012\", \"country\": \"US\", \"state\": \"NY\", \"display_address\": [\"48 Macdougal St\", \"New York, NY 10012\"]}, \"phone\": \"+12129894797\", \"display_phone\": \"(212) 989-4797\", \"distance\": 333.66111158519413, \"business_hours\": [{\"open\": [{\"is_overnight\": false, \"start\": \"1700\", \"end\": \"2130\", \"day\": 0}, {\"is_overnight\": false, \"start\": \"1200\", \"end\": \"2130\", \"day\": 1}, {\"is_overnight\": false, \"start\": \"1200\", \"end\": \"2130\", \"day\": 2}, {\"is_overnight\": false, \"start\": \"1200\", \"end\": \"2130\", \"day\": 3}, {\"is_overnight\": false, \"start\": \"1200\", \"end\": \"2200\", \"day\": 4}, {\"is_overnight\": false, \"start\": \"1200\", \"end\": \"2200\", \"day\": 5}, {\"is_overnight\": false, \"start\": \"1200\", \"end\": \"2130\", \"day\": 6}], \"hours_type\": \"REGULAR\", \"is_open_now\": false}], \"attributes\": {\"business_temp_closed\": null, \"menu_url\": \"https://rakunyc.com/pages/menu-soho\", \"open24_hours\": null, \"waitlist_reservation\": false}}, {\"id\": \"txSykTj5nbwmpiVNoK_Dyg\", \"alias\": \"blue-ribbon-brasserie-soho-new-york\", \"name\": \"Blue Ribbon Brasserie\", \"image_url\": \"https://s3-media1.fl.yelpcdn.com/bphoto/DUaEpFIAAU7ASQLyzNGDJQ/o.jpg\", \"is_closed\": false, \"url\": \"https://www.yelp.com/biz/blue-ribbon-brasserie-soho-new-york?adjust_creative=TjDufAyIueJO_Ru4-mN-IA&utm_campaign=yelp_api_v3&utm_medium=api_v3_business_search&utm_source=TjDufAyIueJO_Ru4-mN-IA\", \"review_count\": 1040, \"categories\": [{\"alias\": \"tradamerican\", \"title\": \"American\"}, {\"alias\": \"cocktailbars\", \"title\": \"Cocktail Bars\"}, {\"alias\": \"desserts\", \"title\": \"Desserts\"}], \"rating\": 4.3, \"coordinates\": {\"latitude\": 40.72548811686033, \"longitude\": -74.003027}, \"transactions\": [\"delivery\", \"pickup\"], \"price\": \"$$$\", \"location\": {\"address1\": \"97 Sullivan St\", \"address2\": \"\", \"address3\": \"\", \"city\": \"New York\", \"zip_code\": \"10012\", \"country\": \"US\", \"state\": \"NY\", \"display_address\": [\"97 Sullivan St\", \"New York, NY 10012\"]}, \"phone\": \"+12122740404\", \"display_phone\": \"(212) 274-0404\", \"distance\": 167.76433754305515, \"business_hours\": [{\"open\": [{\"is_overnight\": true, \"start\": \"1700\", \"end\": \"0200\", \"day\": 0}, {\"is_overnight\": true, \"start\": \"1700\", \"end\": \"0200\", \"day\": 1}, {\"is_overnight\": true, \"start\": \"1700\", \"end\": \"0200\", \"day\": 2}, {\"is_overnight\": true, \"start\": \"1700\", \"end\": \"0200\", \"day\": 3}, {\"is_overnight\": true, \"start\": \"1700\", \"end\": \"0200\", \"day\": 4}, {\"is_overnight\": true, \"start\": \"1700\", \"end\": \"0200\", \"day\": 5}, {\"is_overnight\": true, \"start\": \"1700\", \"end\": \"0200\", \"day\": 6}], \"hours_type\": \"REGULAR\", \"is_open_now\": true}], \"attributes\": {\"business_temp_closed\": null, \"menu_url\": \"https://www.blueribbonbrasserie.com/menu\", \"open24_hours\": null, \"waitlist_reservation\": null}}, {\"id\": \"MdDj13LgIs0WdbIdiyqB7Q\", \"alias\": \"pinch-chinese-new-york-2\", \"name\": \"Pinch Chinese\", \"image_url\": \"https://s3-media1.fl.yelpcdn.com/bphoto/8IdVFJFaG2PSIWD3mDl0pQ/o.jpg\", \"is_closed\": false, \"url\": \"https://www.yelp.com/biz/pinch-chinese-new-york-2?adjust_creative=TjDufAyIueJO_Ru4-mN-IA&utm_campaign=yelp_api_v3&utm_medium=api_v3_business_search&utm_source=TjDufAyIueJO_Ru4-mN-IA\", \"review_count\": 499, \"categories\": [{\"alias\": \"chinese\", \"title\": \"Chinese\"}, {\"alias\": \"wine_bars\", \"title\": \"Wine Bars\"}, {\"alias\": \"cocktailbars\", \"title\": \"Cocktail Bars\"}], \"rating\": 3.8, \"coordinates\": {\"latitude\": 40.72645222833495, \"longitude\": -74.0017973317552}, \"transactions\": [\"delivery\", \"pickup\"], \"price\": \"$$\", \"location\": {\"address1\": \"177 Prince St\", \"address2\": \"\", \"address3\": null, \"city\": \"New York\", \"zip_code\": \"10012\", \"country\": \"US\", \"state\": \"NY\", \"display_address\": [\"177 Prince St\", \"New York, NY 10012\"]}, \"phone\": \"+12123287880\", \"display_phone\": \"(212) 328-7880\", \"distance\": 239.31671202867975, \"business_hours\": [{\"open\": [{\"is_overnight\": false, \"start\": \"1700\", \"end\": \"2200\", \"day\": 0}, {\"is_overnight\": false, \"start\": \"1700\", \"end\": \"2200\", \"day\": 1}, {\"is_overnight\": false, \"start\": \"1700\", \"end\": \"2200\", \"day\": 2}, {\"is_overnight\": false, \"start\": \"1700\", \"end\": \"2200\", \"day\": 3}, {\"is_overnight\": false, \"start\": \"1700\", \"end\": \"2300\", \"day\": 4}, {\"is_overnight\": false, \"start\": \"1200\", \"end\": \"2300\", \"day\": 5}, {\"is_overnight\": false, \"start\": \"1200\", \"end\": \"2200\", \"day\": 6}], \"hours_type\": \"REGULAR\", \"is_open_now\": true}], \"attributes\": {\"business_temp_closed\": null, \"menu_url\": \"https://www.dropbox.com/s/bwnchu5d3tnid74/PinchChinese_YelpMenu.pdf?dl=0\", \"open24_hours\": null, \"waitlist_reservation\": null}}, {\"id\": \"MCnexHfsclcOpLHS4_2U0A\", \"alias\": \"san-carlo-osteria-piemonte-new-york-2\", \"name\": \"San Carlo Osteria Piemonte\", \"image_url\": \"https://s3-media2.fl.yelpcdn.com/bphoto/Kdq15WzS-fYlZcbydVMjtA/o.jpg\", \"is_closed\": false, \"url\": \"https://www.yelp.com/biz/san-carlo-osteria-piemonte-new-york-2?adjust_creative=TjDufAyIueJO_Ru4-mN-IA&utm_campaign=yelp_api_v3&utm_medium=api_v3_business_search&utm_source=TjDufAyIueJO_Ru4-mN-IA\", \"review_count\": 316, \"categories\": [{\"alias\": \"italian\", \"title\": \"Italian\"}, {\"alias\": \"wine_bars\", \"title\": \"Wine Bars\"}, {\"alias\": \"cocktailbars\", \"title\": \"Cocktail Bars\"}], \"rating\": 4.4, \"coordinates\": {\"latitude\": 40.72517, \"longitude\": -74.00212}, \"transactions\": [\"delivery\", \"pickup\"], \"price\": \"$$$\", \"location\": {\"address1\": \"90 Thompson St\", \"address2\": null, \"address3\": \"\", \"city\": \"New York\", \"zip_code\": \"10012\", \"country\": \"US\", \"state\": \"NY\", \"display_address\": [\"90 Thompson St\", \"New York, NY 10012\"]}, \"phone\": \"+12126251212\", \"display_phone\": \"(212) 625-1212\", \"distance\": 95.94590378616198, \"business_hours\": [{\"open\": [{\"is_overnight\": false, \"start\": \"1200\", \"end\": \"2230\", \"day\": 0}, {\"is_overnight\": false, \"start\": \"1200\", \"end\": \"2230\", \"day\": 1}, {\"is_overnight\": false, \"start\": \"1200\", \"end\": \"2230\", \"day\": 2}, {\"is_overnight\": false, \"start\": \"1200\", \"end\": \"2230\", \"day\": 3}, {\"is_overnight\": false, \"start\": \"1200\", \"end\": \"2300\", \"day\": 4}, {\"is_overnight\": false, \"start\": \"1200\", \"end\": \"2300\", \"day\": 5}, {\"is_overnight\": false, \"start\": \"1200\", \"end\": \"2230\", \"day\": 6}], \"hours_type\": \"REGULAR\", \"is_open_now\": true}], \"attributes\": {\"business_temp_closed\": null, \"menu_url\": \"http://www.sancarlonyc.com/menu/\", \"open24_hours\": null, \"waitlist_reservation\": null}}, {\"id\": \"0ASfmKBIeJlTO6IzES6rzw\", \"alias\": \"shiki-omakase-new-york-2\", \"name\": \"Shiki Omakase\", \"image_url\": \"https://s3-media3.fl.yelpcdn.com/bphoto/lnSFA_uxh5_ATnrbyeIgGw/o.jpg\", \"is_closed\": false, \"url\": \"https://www.yelp.com/biz/shiki-omakase-new-york-2?adjust_creative=TjDufAyIueJO_Ru4-mN-IA&utm_campaign=yelp_api_v3&utm_medium=api_v3_business_search&utm_source=TjDufAyIueJO_Ru4-mN-IA\", \"review_count\": 555, \"categories\": [{\"alias\": \"sushi\", \"title\": \"Sushi Bars\"}], \"rating\": 4.5, \"coordinates\": {\"latitude\": 40.72654, \"longitude\": -73.99956}, \"transactions\": [\"restaurant_reservation\"], \"price\": \"$$$$\", \"location\": {\"address1\": \"71 W Houston St\", \"address2\": null, \"address3\": \"\", \"city\": \"New York\", \"zip_code\": \"10012\", \"country\": \"US\", \"state\": \"NY\", \"display_address\": [\"71 W Houston St\", \"New York, NY 10012\"]}, \"phone\": \"+19178085205\", \"display_phone\": \"(917) 808-5205\", \"distance\": 311.5190871562811, \"business_hours\": [{\"open\": [{\"is_overnight\": false, \"start\": \"1200\", \"end\": \"1500\", \"day\": 0}, {\"is_overnight\": false, \"start\": \"1700\", \"end\": \"2300\", \"day\": 0}, {\"is_overnight\": false, \"start\": \"1200\", \"end\": \"1500\", \"day\": 1}, {\"is_overnight\": false, \"start\": \"1700\", \"end\": \"2300\", \"day\": 1}, {\"is_overnight\": false, \"start\": \"1200\", \"end\": \"1500\", \"day\": 2}, {\"is_overnight\": false, \"start\": \"1700\", \"end\": \"2300\", \"day\": 2}, {\"is_overnight\": false, \"start\": \"1200\", \"end\": \"1500\", \"day\": 3}, {\"is_overnight\": false, \"start\": \"1700\", \"end\": \"2300\", \"day\": 3}, {\"is_overnight\": false, \"start\": \"1200\", \"end\": \"1500\", \"day\": 4}, {\"is_overnight\": false, \"start\": \"1700\", \"end\": \"2300\", \"day\": 4}, {\"is_overnight\": false, \"start\": \"1200\", \"end\": \"1500\", \"day\": 5}, {\"is_overnight\": false, \"start\": \"1700\", \"end\": \"2300\", \"day\": 5}, {\"is_overnight\": false, \"start\": \"1200\", \"end\": \"1500\", \"day\": 6}, {\"is_overnight\": false, \"start\": \"1700\", \"end\": \"2300\", \"day\": 6}], \"hours_type\": \"REGULAR\", \"is_open_now\": true}], \"attributes\": {\"business_temp_closed\": null, \"menu_url\": \"https://shikiomakasenyc.com/Menu\", \"open24_hours\": null, \"waitlist_reservation\": null}}, {\"id\": \"J0OeDwmh5JBhid0A5GvltA\", \"alias\": \"il-corallo-trattoria-new-york\", \"name\": \"Il Corallo Trattoria\", \"image_url\": \"https://s3-media4.fl.yelpcdn.com/bphoto/EnuEXl6IFcRkRhKqRCevwg/o.jpg\", \"is_closed\": false, \"url\": \"https://www.yelp.com/biz/il-corallo-trattoria-new-york?adjust_creative=TjDufAyIueJO_Ru4-mN-IA&utm_campaign=yelp_api_v3&utm_medium=api_v3_business_search&utm_source=TjDufAyIueJO_Ru4-mN-IA\", \"review_count\": 1170, \"categories\": [{\"alias\": \"italian\", \"title\": \"Italian\"}, {\"alias\": \"pizza\", \"title\": \"Pizza\"}], \"rating\": 4.1, \"coordinates\": {\"latitude\": 40.7262073, \"longitude\": -74.0018919}, \"transactions\": [\"delivery\", \"pickup\"], \"price\": \"$$\", \"location\": {\"address1\": \"176 Prince St\", \"address2\": \"\", \"address3\": \"\", \"city\": \"New York\", \"zip_code\": \"10012\", \"country\": \"US\", \"state\": \"NY\", \"display_address\": [\"176 Prince St\", \"New York, NY 10012\"]}, \"phone\": \"+12129417119\", \"display_phone\": \"(212) 941-7119\", \"distance\": 212.22319475348345, \"business_hours\": [{\"open\": [{\"is_overnight\": false, \"start\": \"1200\", \"end\": \"2100\", \"day\": 0}, {\"is_overnight\": false, \"start\": \"1200\", \"end\": \"2100\", \"day\": 1}, {\"is_overnight\": false, \"start\": \"1200\", \"end\": \"2100\", \"day\": 2}, {\"is_overnight\": false, \"start\": \"1200\", \"end\": \"2100\", \"day\": 3}, {\"is_overnight\": false, \"start\": \"1200\", \"end\": \"2200\", \"day\": 4}, {\"is_overnight\": false, \"start\": \"1200\", \"end\": \"2200\", \"day\": 5}, {\"is_overnight\": false, \"start\": \"1200\", \"end\": \"2100\", \"day\": 6}], \"hours_type\": \"REGULAR\", \"is_open_now\": false}], \"attributes\": {\"business_temp_closed\": null, \"menu_url\": \"http://www.ilcorallotrattoria.com/menu/\", \"open24_hours\": null, \"waitlist_reservation\": null}}, {\"id\": \"BA6wd1pZTVu1DmrtiyTs8g\", \"alias\": \"raouls-restaurant-new-york\", \"name\": \"Raoul's Restaurant\", \"image_url\": \"https://s3-media2.fl.yelpcdn.com/bphoto/9ltuBU0JQme9YETlUKWuqA/o.jpg\", \"is_closed\": false, \"url\": \"https://www.yelp.com/biz/raouls-restaurant-new-york?adjust_creative=TjDufAyIueJO_Ru4-mN-IA&utm_campaign=yelp_api_v3&utm_medium=api_v3_business_search&utm_source=TjDufAyIueJO_Ru4-mN-IA\", \"review_count\": 704, \"categories\": [{\"alias\": \"french\", \"title\": \"French\"}], \"rating\": 4.1, \"coordinates\": {\"latitude\": 40.72615, \"longitude\": -74.00216}, \"transactions\": [\"pickup\"], \"price\": \"$$$\", \"location\": {\"address1\": \"180 Prince St\", \"address2\": \"\", \"address3\": \"\", \"city\": \"New York\", \"zip_code\": \"10012\", \"country\": \"US\", \"state\": \"NY\", \"display_address\": [\"180 Prince St\", \"New York, NY 10012\"]}, \"phone\": \"+12129663518\", \"display_phone\": \"(212) 966-3518\", \"distance\": 212.12871526302993, \"business_hours\": [{\"open\": [{\"is_overnight\": false, \"start\": \"1700\", \"end\": \"2300\", \"day\": 0}, {\"is_overnight\": false, \"start\": \"1700\", \"end\": \"2300\", \"day\": 1}, {\"is_overnight\": false, \"start\": \"1700\", \"end\": \"2300\", \"day\": 2}, {\"is_overnight\": false, \"start\": \"1700\", \"end\": \"2300\", \"day\": 3}, {\"is_overnight\": false, \"start\": \"1700\", \"end\": \"2300\", \"day\": 4}, {\"is_overnight\": false, \"start\": \"1100\", \"end\": \"1430\", \"day\": 5}, {\"is_overnight\": false, \"start\": \"1700\", \"end\": \"2300\", \"day\": 5}, {\"is_overnight\": false, \"start\": \"1100\", \"end\": \"1430\", \"day\": 6}, {\"is_overnight\": false, \"start\": \"1700\", \"end\": \"2300\", \"day\": 6}], \"hours_type\": \"REGULAR\", \"is_open_now\": true}], \"attributes\": {\"business_temp_closed\": null, \"menu_url\": \"http://www.raouls.com/#cuisine\", \"open24_hours\": null, \"waitlist_reservation\": null}}, {\"id\": \"Ssi8ht_p9rXY03Rwld6EKw\", \"alias\": \"vestry-new-york\", \"name\": \"Vestry\", \"image_url\": \"https://s3-media2.fl.yelpcdn.com/bphoto/b7sq7pU20YN8Ck8VIcNDDg/o.jpg\", \"is_closed\": false, \"url\": \"https://www.yelp.com/biz/vestry-new-york?adjust_creative=TjDufAyIueJO_Ru4-mN-IA&utm_campaign=yelp_api_v3&utm_medium=api_v3_business_search&utm_source=TjDufAyIueJO_Ru4-mN-IA\", \"review_count\": 183, \"categories\": [{\"alias\": \"seafood\", \"title\": \"Seafood\"}, {\"alias\": \"newamerican\", \"title\": \"New American\"}], \"rating\": 4.0, \"coordinates\": {\"latitude\": 40.725351, \"longitude\": -74.005502}, \"transactions\": [\"delivery\", \"pickup\"], \"price\": \"$$$\", \"location\": {\"address1\": \"246 Spring St\", \"address2\": null, \"address3\": null, \"city\": \"New York\", \"zip_code\": \"10013\", \"country\": \"US\", \"state\": \"NY\", \"display_address\": [\"246 Spring St\", \"New York, NY 10013\"]}, \"phone\": \"+12127841350\", \"display_phone\": \"(212) 784-1350\", \"distance\": 332.9259699325828, \"business_hours\": [{\"open\": [{\"is_overnight\": false, \"start\": \"1730\", \"end\": \"2230\", \"day\": 0}, {\"is_overnight\": false, \"start\": \"1730\", \"end\": \"2230\", \"day\": 1}, {\"is_overnight\": false, \"start\": \"1730\", \"end\": \"2230\", \"day\": 2}, {\"is_overnight\": false, \"start\": \"1730\", \"end\": \"2230\", \"day\": 3}, {\"is_overnight\": false, \"start\": \"1730\", \"end\": \"2330\", \"day\": 4}, {\"is_overnight\": false, \"start\": \"1730\", \"end\": \"2330\", \"day\": 5}], \"hours_type\": \"REGULAR\", \"is_open_now\": true}], \"attributes\": {\"business_temp_closed\": null, \"menu_url\": null, \"open24_hours\": null, \"waitlist_reservation\": null}}, {\"id\": \"WG639VkTjmK5dzydd1BBJA\", \"alias\": \"rubirosa-new-york-2\", \"name\": \"Rubirosa\", \"image_url\": \"https://s3-media3.fl.yelpcdn.com/bphoto/l0Phrnhhj78RFiDhLIOUyQ/o.jpg\", \"is_closed\": false, \"url\": \"https://www.yelp.com/biz/rubirosa-new-york-2?adjust_creative=TjDufAyIueJO_Ru4-mN-IA&utm_campaign=yelp_api_v3&utm_medium=api_v3_business_search&utm_source=TjDufAyIueJO_Ru4-mN-IA\", \"review_count\": 3412, \"categories\": [{\"alias\": \"italian\", \"title\": \"Italian\"}, {\"alias\": \"pizza\", \"title\": \"Pizza\"}], \"rating\": 4.3, \"coordinates\": {\"latitude\": 40.722766, \"longitude\": -73.996233}, \"transactions\": [\"pickup\"], \"price\": \"$$\", \"location\": {\"address1\": \"235 Mulberry St\", \"address2\": \"\", \"address3\": \"\", \"city\": \"New York\", \"zip_code\": \"10012\", \"country\": \"US\", \"state\": \"NY\", \"display_address\": [\"235 Mulberry St\", \"New York, NY 10012\"]}, \"phone\": \"+12129650500\", \"display_phone\": \"(212) 965-0500\", \"distance\": 499.1826289080273, \"business_hours\": [{\"open\": [{\"is_overnight\": false, \"start\": \"1100\", \"end\": \"2300\", \"day\": 0}, {\"is_overnight\": false, \"start\": \"1100\", \"end\": \"2300\", \"day\": 1}, {\"is_overnight\": false, \"start\": \"1100\", \"end\": \"2300\", \"day\": 2}, {\"is_overnight\": false, \"start\": \"1100\", \"end\": \"2300\", \"day\": 3}, {\"is_overnight\": false, \"start\": \"1100\", \"end\": \"2300\", \"day\": 4}, {\"is_overnight\": false, \"start\": \"1100\", \"end\": \"2300\", \"day\": 5}, {\"is_overnight\": false, \"start\": \"1100\", \"end\": \"2300\", \"day\": 6}], \"hours_type\": \"REGULAR\", \"is_open_now\": true}], \"attributes\": {\"business_temp_closed\": null, \"menu_url\": \"https://www.rubirosanyc.com/menus/\", \"open24_hours\": null, \"waitlist_reservation\": null}}, {\"id\": \"9fG8-RRh1rzuCKN2TmF-QQ\", \"alias\": \"5ive-spice-new-york-2\", \"name\": \"5ive Spice\", \"image_url\": \"https://s3-media3.fl.yelpcdn.com/bphoto/-wN4V3HQZBorFWzESdzdUA/o.jpg\", \"is_closed\": false, \"url\": \"https://www.yelp.com/biz/5ive-spice-new-york-2?adjust_creative=TjDufAyIueJO_Ru4-mN-IA&utm_campaign=yelp_api_v3&utm_medium=api_v3_business_search&utm_source=TjDufAyIueJO_Ru4-mN-IA\", \"review_count\": 848, \"categories\": [{\"alias\": \"vietnamese\", \"title\": \"Vietnamese\"}, {\"alias\": \"tacos\", \"title\": \"Tacos\"}, {\"alias\": \"sandwiches\", \"title\": \"Sandwiches\"}], \"rating\": 4.6, \"coordinates\": {\"latitude\": 40.722598, \"longitude\": -73.996272}, \"transactions\": [\"delivery\", \"pickup\"], \"price\": \"$$\", \"location\": {\"address1\": \"227 Mulberry St\", \"address2\": null, \"address3\": \"\", \"city\": \"New York\", \"zip_code\": \"10012\", \"country\": \"US\", \"state\": \"NY\", \"display_address\": [\"227 Mulberry St\", \"New York, NY 10012\"]}, \"phone\": \"+19174092605\", \"display_phone\": \"(917) 409-2605\", \"distance\": 504.9878286712546, \"business_hours\": [{\"open\": [{\"is_overnight\": false, \"start\": \"1100\", \"end\": \"2100\", \"day\": 0}, {\"is_overnight\": false, \"start\": \"1100\", \"end\": \"2100\", \"day\": 1}, {\"is_overnight\": false, \"start\": \"1100\", \"end\": \"2100\", \"day\": 2}, {\"is_overnight\": false, \"start\": \"1100\", \"end\": \"2100\", \"day\": 3}, {\"is_overnight\": false, \"start\": \"1100\", \"end\": \"2200\", \"day\": 4}, {\"is_overnight\": false, \"start\": \"1100\", \"end\": \"2200\", \"day\": 5}, {\"is_overnight\": false, \"start\": \"1100\", \"end\": \"2100\", \"day\": 6}], \"hours_type\": \"REGULAR\", \"is_open_now\": false}], \"attributes\": {\"business_temp_closed\": null, \"menu_url\": \"https://www.5ivespice.com/nolita/food-menu/\", \"open24_hours\": null, \"waitlist_reservation\": null}}, {\"id\": \"QR1YIRzFjd2bi5iBzT9zXg\", \"alias\": \"blue-ribbon-sushi-new-york\", \"name\": \"Blue Ribbon Sushi\", \"image_url\": \"https://s3-media4.fl.yelpcdn.com/bphoto/YbiMhpUHkB6avSxrCDPHKA/o.jpg\", \"is_closed\": false, \"url\": \"https://www.yelp.com/biz/blue-ribbon-sushi-new-york?adjust_creative=TjDufAyIueJO_Ru4-mN-IA&utm_campaign=yelp_api_v3&utm_medium=api_v3_business_search&utm_source=TjDufAyIueJO_Ru4-mN-IA\", \"review_count\": 1284, \"categories\": [{\"alias\": \"sushi\", \"title\": \"Sushi Bars\"}, {\"alias\": \"japanese\", \"title\": \"Japanese\"}], \"rating\": 4.1, \"coordinates\": {\"latitude\": 40.726083, \"longitude\": -74.002402}, \"transactions\": [\"pickup\"], \"price\": \"$$\", \"location\": {\"address1\": \"119 Sullivan St\", \"address2\": \"\", \"address3\": \"\", \"city\": \"New York\", \"zip_code\": \"10012\", \"country\": \"US\", \"state\": \"NY\", \"display_address\": [\"119 Sullivan St\", \"New York, NY 10012\"]}, \"phone\": \"+12123430404\", \"display_phone\": \"(212) 343-0404\", \"distance\": 204.64767046596418, \"business_hours\": [{\"open\": [{\"is_overnight\": false, \"start\": \"1200\", \"end\": \"2300\", \"day\": 0}, {\"is_overnight\": false, \"start\": \"1200\", \"end\": \"2300\", \"day\": 1}, {\"is_overnight\": false, \"start\": \"1200\", \"end\": \"2300\", \"day\": 2}, {\"is_overnight\": false, \"start\": \"1200\", \"end\": \"2300\", \"day\": 3}, {\"is_overnight\": false, \"start\": \"1200\", \"end\": \"2300\", \"day\": 4}, {\"is_overnight\": false, \"start\": \"1200\", \"end\": \"2300\", \"day\": 5}, {\"is_overnight\": false, \"start\": \"1200\", \"end\": \"2300\", \"day\": 6}], \"hours_type\": \"REGULAR\", \"is_open_now\": true}], \"attributes\": {\"business_temp_closed\": null, \"menu_url\": \"https://www.blueribbonsushi119.com/menu\", \"open24_hours\": null, \"waitlist_reservation\": null}}, {\"id\": \"WJS06XxRdc6DD1s4LWE9HA\", \"alias\": \"fish-cheeks-new-york\", \"name\": \"Fish Cheeks\", \"image_url\": \"https://s3-media2.fl.yelpcdn.com/bphoto/pqupe3fe52869QQ23KkiBg/o.jpg\", \"is_closed\": false, \"url\": \"https://www.yelp.com/biz/fish-cheeks-new-york?adjust_creative=TjDufAyIueJO_Ru4-mN-IA&utm_campaign=yelp_api_v3&utm_medium=api_v3_business_search&utm_source=TjDufAyIueJO_Ru4-mN-IA\", \"review_count\": 1670, \"categories\": [{\"alias\": \"seafood\", \"title\": \"Seafood\"}, {\"alias\": \"thai\", \"title\": \"Thai\"}, {\"alias\": \"raw_food\", \"title\": \"Live/Raw Food\"}], \"rating\": 4.4, \"coordinates\": {\"latitude\": 40.7258, \"longitude\": -73.9927}, \"transactions\": [\"delivery\", \"pickup\"], \"price\": \"$$\", \"location\": {\"address1\": \"55 Bond St\", \"address2\": \"\", \"address3\": null, \"city\": \"New York\", \"zip_code\": \"10012\", \"country\": \"US\", \"state\": \"NY\", \"display_address\": [\"55 Bond St\", \"New York, NY 10012\"]}, \"phone\": \"+12126772223\", \"display_phone\": \"(212) 677-2223\", \"distance\": 783.4401456097829, \"business_hours\": [{\"open\": [{\"is_overnight\": false, \"start\": \"1200\", \"end\": \"2200\", \"day\": 0}, {\"is_overnight\": false, \"start\": \"1200\", \"end\": \"2200\", \"day\": 1}, {\"is_overnight\": false, \"start\": \"1200\", \"end\": \"2200\", \"day\": 2}, {\"is_overnight\": false, \"start\": \"1200\", \"end\": \"2200\", \"day\": 3}, {\"is_overnight\": false, \"start\": \"1200\", \"end\": \"2300\", \"day\": 4}, {\"is_overnight\": false, \"start\": \"1200\", \"end\": \"2300\", \"day\": 5}, {\"is_overnight\": false, \"start\": \"1200\", \"end\": \"2200\", \"day\": 6}], \"hours_type\": \"REGULAR\", \"is_open_now\": true}], \"attributes\": {\"business_temp_closed\": null, \"menu_url\": \"https://www.fishcheeksnyc.com/menus/\", \"open24_hours\": null, \"waitlist_reservation\": null}}, {\"id\": \"2Nwmd7-1d1rI6lb9QSSYYA\", \"alias\": \"a-pasta-bar-new-york\", \"name\": \"A Pasta Bar\", \"image_url\": \"https://s3-media2.fl.yelpcdn.com/bphoto/4VDTeJrDb4PTdSiVLEeCag/o.jpg\", \"is_closed\": false, \"url\": \"https://www.yelp.com/biz/a-pasta-bar-new-york?adjust_creative=TjDufAyIueJO_Ru4-mN-IA&utm_campaign=yelp_api_v3&utm_medium=api_v3_business_search&utm_source=TjDufAyIueJO_Ru4-mN-IA\", \"review_count\": 592, \"categories\": [{\"alias\": \"italian\", \"title\": \"Italian\"}, {\"alias\": \"bars\", \"title\": \"Bars\"}], \"rating\": 4.0, \"coordinates\": {\"latitude\": 40.72229, \"longitude\": -74.00403}, \"transactions\": [\"delivery\", \"pickup\"], \"price\": \"$$$\", \"location\": {\"address1\": \"330 W Broadway\", \"address2\": \"\", \"address3\": null, \"city\": \"New York\", \"zip_code\": \"10013\", \"country\": \"US\", \"state\": \"NY\", \"display_address\": [\"330 W Broadway\", \"New York, NY 10013\"]}, \"phone\": \"+16467624056\", \"display_phone\": \"(646) 762-4056\", \"distance\": 291.62030353881863, \"business_hours\": [{\"open\": [{\"is_overnight\": false, \"start\": \"1700\", \"end\": \"2300\", \"day\": 0}, {\"is_overnight\": false, \"start\": \"1700\", \"end\": \"2300\", \"day\": 1}, {\"is_overnight\": false, \"start\": \"1700\", \"end\": \"2300\", \"day\": 2}, {\"is_overnight\": false, \"start\": \"1200\", \"end\": \"2300\", \"day\": 3}, {\"is_overnight\": false, \"start\": \"1200\", \"end\": \"2330\", \"day\": 4}, {\"is_overnight\": false, \"start\": \"1200\", \"end\": \"2330\", \"day\": 5}, {\"is_overnight\": false, \"start\": \"1200\", \"end\": \"2300\", \"day\": 6}], \"hours_type\": \"REGULAR\", \"is_open_now\": true}], \"attributes\": {\"business_temp_closed\": null, \"menu_url\": \"http://apastabar.com/menu/\", \"open24_hours\": null, \"waitlist_reservation\": null}}, {\"id\": \"KgpOYAG-r_eDsQXFXt0nnQ\", \"alias\": \"balthazar-new-york-2\", \"name\": \"Balthazar\", \"image_url\": \"https://s3-media2.fl.yelpcdn.com/bphoto/HY95-fSwf_JNsygeeEzzaA/o.jpg\", \"is_closed\": false, \"url\": \"https://www.yelp.com/biz/balthazar-new-york-2?adjust_creative=TjDufAyIueJO_Ru4-mN-IA&utm_campaign=yelp_api_v3&utm_medium=api_v3_business_search&utm_source=TjDufAyIueJO_Ru4-mN-IA\", \"review_count\": 3751, \"categories\": [{\"alias\": \"french\", \"title\": \"French\"}, {\"alias\": \"breakfast_brunch\", \"title\": \"Breakfast & Brunch\"}], \"rating\": 4.0, \"coordinates\": {\"latitude\": 40.722675, \"longitude\": -73.998285}, \"transactions\": [\"delivery\", \"pickup\"], \"price\": \"$$$\", \"location\": {\"address1\": \"80 Spring St\", \"address2\": \"\", \"address3\": \"\", \"city\": \"New York\", \"zip_code\": \"10012\", \"country\": \"US\", \"state\": \"NY\", \"display_address\": [\"80 Spring St\", \"New York, NY 10012\"]}, \"phone\": \"+12129651414\", \"display_phone\": \"(212) 965-1414\", \"distance\": 350.56155175101605, \"business_hours\": [{\"open\": [{\"is_overnight\": false, \"start\": \"0800\", \"end\": \"1100\", \"day\": 0}, {\"is_overnight\": false, \"start\": \"1130\", \"end\": \"1630\", \"day\": 0}, {\"is_overnight\": false, \"start\": \"1700\", \"end\": \"0000\", \"day\": 0}, {\"is_overnight\": false, \"start\": \"0800\", \"end\": \"1100\", \"day\": 1}, {\"is_overnight\": false, \"start\": \"1130\", \"end\": \"1630\", \"day\": 1}, {\"is_overnight\": false, \"start\": \"1700\", \"end\": \"0000\", \"day\": 1}, {\"is_overnight\": false, \"start\": \"0800\", \"end\": \"1100\", \"day\": 2}, {\"is_overnight\": false, \"start\": \"1130\", \"end\": \"1630\", \"day\": 2}, {\"is_overnight\": false, \"start\": \"1700\", \"end\": \"0000\", \"day\": 2}, {\"is_overnight\": false, \"start\": \"0800\", \"end\": \"1100\", \"day\": 3}, {\"is_overnight\": false, \"start\": \"1130\", \"end\": \"1630\", \"day\": 3}, {\"is_overnight\": false, \"start\": \"1700\", \"end\": \"0000\", \"day\": 3}, {\"is_overnight\": false, \"start\": \"0800\", \"end\": \"1100\", \"day\": 4}, {\"is_overnight\": false, \"start\": \"1130\", \"end\": \"1630\", \"day\": 4}, {\"is_overnight\": false, \"start\": \"1700\", \"end\": \"0000\", \"day\": 4}, {\"is_overnight\": false, \"start\": \"0900\", \"end\": \"1600\", \"day\": 5}, {\"is_overnight\": false, \"start\": \"1700\", \"end\": \"0000\", \"day\": 5}, {\"is_overnight\": false, \"start\": \"0900\", \"end\": \"1600\", \"day\": 6}, {\"is_overnight\": false, \"start\": \"1700\", \"end\": \"0000\", \"day\": 6}], \"hours_type\": \"REGULAR\", \"is_open_now\": true}], \"attributes\": {\"business_temp_closed\": null, \"menu_url\": \"\", \"open24_hours\": null, \"waitlist_reservation\": null}}, {\"id\": \"FRp1NwIyp6tkDU986cJkXQ\", \"alias\": \"piccola-cucina-estiatorio-new-york\", \"name\": \"Piccola Cucina Estiatorio\", \"image_url\": \"https://s3-media2.fl.yelpcdn.com/bphoto/dLIusDKy0yL2JlicdixSfQ/o.jpg\", \"is_closed\": false, \"url\": \"https://www.yelp.com/biz/piccola-cucina-estiatorio-new-york?adjust_creative=TjDufAyIueJO_Ru4-mN-IA&utm_campaign=yelp_api_v3&utm_medium=api_v3_business_search&utm_source=TjDufAyIueJO_Ru4-mN-IA\", \"review_count\": 292, \"categories\": [{\"alias\": \"italian\", \"title\": \"Italian\"}, {\"alias\": \"seafood\", \"title\": \"Seafood\"}], \"rating\": 4.3, \"coordinates\": {\"latitude\": 40.7246, \"longitude\": -74.0029799}, \"transactions\": [\"delivery\", \"pickup\"], \"price\": \"$$$\", \"location\": {\"address1\": \"75 Thompson St\", \"address2\": null, \"address3\": \"\", \"city\": \"New York\", \"zip_code\": \"10012\", \"country\": \"US\", \"state\": \"NY\", \"display_address\": [\"75 Thompson St\", \"New York, NY 10012\"]}, \"phone\": \"+16467819183\", \"display_phone\": \"(646) 781-9183\", \"distance\": 107.83980478564999, \"business_hours\": [{\"open\": [{\"is_overnight\": false, \"start\": \"1130\", \"end\": \"2300\", \"day\": 0}, {\"is_overnight\": false, \"start\": \"1130\", \"end\": \"2300\", \"day\": 1}, {\"is_overnight\": false, \"start\": \"1130\", \"end\": \"2300\", \"day\": 2}, {\"is_overnight\": false, \"start\": \"1130\", \"end\": \"2300\", \"day\": 3}, {\"is_overnight\": false, \"start\": \"1130\", \"end\": \"0000\", \"day\": 4}, {\"is_overnight\": false, \"start\": \"1130\", \"end\": \"0000\", \"day\": 5}, {\"is_overnight\": false, \"start\": \"1130\", \"end\": \"2300\", \"day\": 6}], \"hours_type\": \"REGULAR\", \"is_open_now\": true}], \"attributes\": {\"business_temp_closed\": null, \"menu_url\": null, \"open24_hours\": null, \"waitlist_reservation\": null}}, {\"id\": \"s3jou_L_LVYGkNHiuhjlew\", \"alias\": \"boucherie-west-village-new-york-3\", \"name\": \"Boucherie West Village\", \"image_url\": \"https://s3-media1.fl.yelpcdn.com/bphoto/WxNMDkguiN5eVOOA9WEaog/o.jpg\", \"is_closed\": false, \"url\": \"https://www.yelp.com/biz/boucherie-west-village-new-york-3?adjust_creative=TjDufAyIueJO_Ru4-mN-IA&utm_campaign=yelp_api_v3&utm_medium=api_v3_business_search&utm_source=TjDufAyIueJO_Ru4-mN-IA\", \"review_count\": 2474, \"categories\": [{\"alias\": \"french\", \"title\": \"French\"}, {\"alias\": \"cocktailbars\", \"title\": \"Cocktail Bars\"}, {\"alias\": \"steak\", \"title\": \"Steakhouses\"}], \"rating\": 4.5, \"coordinates\": {\"latitude\": 40.733094394854035, \"longitude\": -74.0028772}, \"transactions\": [\"delivery\", \"pickup\"], \"price\": \"$$$\", \"location\": {\"address1\": \"99 7th Ave S\", \"address2\": \"\", \"address3\": null, \"city\": \"New York\", \"zip_code\": \"10014\", \"country\": \"US\", \"state\": \"NY\", \"display_address\": [\"99 7th Ave S\", \"New York, NY 10014\"]}, \"phone\": \"+12128371616\", \"display_phone\": \"(212) 837-1616\", \"distance\": 982.0946577726107, \"business_hours\": [{\"open\": [{\"is_overnight\": false, \"start\": \"1100\", \"end\": \"0000\", \"day\": 0}, {\"is_overnight\": false, \"start\": \"1100\", \"end\": \"0000\", \"day\": 1}, {\"is_overnight\": false, \"start\": \"1100\", \"end\": \"0000\", \"day\": 2}, {\"is_overnight\": false, \"start\": \"1100\", \"end\": \"0000\", \"day\": 3}, {\"is_overnight\": false, \"start\": \"1100\", \"end\": \"0000\", \"day\": 4}, {\"is_overnight\": false, \"start\": \"1000\", \"end\": \"0000\", \"day\": 5}, {\"is_overnight\": false, \"start\": \"1000\", \"end\": \"0000\", \"day\": 6}], \"hours_type\": \"REGULAR\", \"is_open_now\": true}], \"attributes\": {\"business_temp_closed\": null, \"menu_url\": \"https://www.boucherieus.com/west-village-menus/\", \"open24_hours\": null, \"waitlist_reservation\": null}}], \"total\": 2500, \"region\": {\"center\": {\"longitude\": -74.0018, \"latitude\": 40.7243}}}\n"
     ]
    }
   ],
   "source": [
    "yelp_params = {\n",
    "    'radius' : 1000,\n",
    "    'latitude': 40.7243,\n",
    "    'longitude' : -74.0018,\n",
    "    'query': 'coffee',\n",
    "}\n",
    "\n",
    "response_yelp = requests.get(yelp_url, headers=yelp_headers, params=yelp_params)\n",
    "\n",
    "print(response_yelp.text)"
   ]
  },
  {
   "cell_type": "code",
   "execution_count": 6,
   "metadata": {},
   "outputs": [],
   "source": [
    "data_yelp = response_yelp.json()\n",
    "    \n",
    "yelp_places = data_yelp.get('businesses', [])\n",
    "df_yelp_places = pd.DataFrame(yelp_places)\n",
    "\n",
    "df_yelp_places.to_csv(\"C:/Users/kasun/Desktop/Data Analytics/Project 02/practice test/yelp_data.csv\")"
   ]
  },
  {
   "cell_type": "markdown",
   "metadata": {},
   "source": [
    "# Comparing Results"
   ]
  },
  {
   "cell_type": "markdown",
   "metadata": {},
   "source": [
    "Which API provided you with more complete data? Provide an explanation. "
   ]
  },
  {
   "cell_type": "markdown",
   "metadata": {},
   "source": [
    "Yelp API is likely to provide more complete details, especially if you need information like business ratings, reviews, and detailed addresses. This makes it more suitable for applications where comprehensive business data is essential.\n",
    "\n",
    "Foursquare API, while potentially returning more results in terms of quantity (depending on the query and location), might not include as much detailed business information, making it less \"complete\" in that context. However, it could be more useful if you are specifically interested in location data or broader search categories."
   ]
  },
  {
   "cell_type": "markdown",
   "metadata": {},
   "source": [
    "Get the top 10 restaurants according to their rating"
   ]
  },
  {
   "cell_type": "code",
   "execution_count": 10,
   "metadata": {},
   "outputs": [
    {
     "name": "stdout",
     "output_type": "stream",
     "text": [
      "1. Peter Cannon Construction - 695 Secord Blvd NW, Edmonton AB T5T 6Z6 - Rating: 0\n",
      "2. Grian of Rice - 1312 Webber Greens Dr NW, Edmonton AB T5T 7C5 - Rating: 0\n",
      "3. Tlc Independent Consultant - 8608 190A St NW, Edmonton AB T5T 4Y3 - Rating: 0\n",
      "4. Park West - 189 St (87 Ave. to 95 Ave.), Edmonton AB - Rating: 0\n",
      "5. Christian Reformed Churches - 19010 87 Ave NW, Edmonton AB T5T 6P2 - Rating: 0\n",
      "6. Prestige Fairway Target Greens Ltd - 19101 87 Ave NW, Edmonton AB T5T 5Z7 - Rating: 0\n",
      "7. Parkwest Pet Clinic - 18924 87 Ave NW, Edmonton AB T5T 6J1 - Rating: 0\n",
      "8. Mac's Convenience Store - 18904 87 Ave NW (Few blocks from WEMl on 87th Ave Westbound), Edmonton AB T5T 6J1 - Rating: 0\n",
      "9. 87 Pizza & Donair - 18914 87 Ave NW (87 Avenue), Edmonton AB T5T 6J1 - Rating: 0\n",
      "10. Browns Socialhouse West Henday - 1010 Webber Greens Dr NW, Edmonton AB T5T 4K5 - Rating: 0\n"
     ]
    }
   ],
   "source": [
    "search_response = requests.get(url = foursquare_url, headers=foursquare_headers)\n",
    "df_search_response = pd.DataFrame(search_response)\n",
    "# print(df_search_response)\n",
    "df_search_response.to_csv(\"C:/Users/kasun/Desktop/Data Analytics/Project 02/practice test/top 10 restaurant/foursqaure_restau_response.csv\")\n",
    "\n",
    "if search_response.status_code == 200:\n",
    "    search_data = search_response.json()\n",
    "    places = search_data.get('results', [])\n",
    "\n",
    "    df_places = pd.DataFrame(places)\n",
    "    df_places.to_csv(\"C:/Users/kasun/Desktop/Data Analytics/Project 02/practice test/top 10 restaurant/filtered_foursqaure_restau_response.csv\")\n",
    "\n",
    "else:\n",
    "    print(f\"Error: {search_response.status_code}, {search_response.text}\")\n",
    "    places = []\n",
    "\n",
    "detail_url = 'https://api.foursquare.com/v3/places/'\n",
    "detailed_places = []\n",
    "\n",
    "for place in places:\n",
    "    place_id = place['fsq_id']\n",
    "    response = requests.get(f\"{detail_url}{place_id}\", headers=foursquare_headers)\n",
    "    \n",
    "    if response.status_code == 200:\n",
    "        detailed_info = response.json()\n",
    "        place['rating'] = detailed_info.get('rating', 0)\n",
    "        detailed_places.append(place)\n",
    "    else:\n",
    "        print(f\"Failed to get details for place ID {place_id}: {response.status_code}\")\n",
    "\n",
    "top_places = sorted(detailed_places, key=lambda x: x.get('rating', 1), reverse=True)[:10]\n",
    "\n",
    "for i, place in enumerate(top_places, start=1):\n",
    "    name = place.get('name', 'N/A')\n",
    "    address = place.get('location', {}).get('formatted_address', 'N/A')\n",
    "    rating = place.get('rating', 'N/A')\n",
    "    \n",
    "    print(f\"{i}. {name} - {address} - Rating: {rating}\")"
   ]
  },
  {
   "cell_type": "code",
   "execution_count": null,
   "metadata": {},
   "outputs": [],
   "source": []
  }
 ],
 "metadata": {
  "kernelspec": {
   "display_name": "Python 3",
   "language": "python",
   "name": "python3"
  },
  "language_info": {
   "codemirror_mode": {
    "name": "ipython",
    "version": 3
   },
   "file_extension": ".py",
   "mimetype": "text/x-python",
   "name": "python",
   "nbconvert_exporter": "python",
   "pygments_lexer": "ipython3",
   "version": "3.11.9"
  }
 },
 "nbformat": 4,
 "nbformat_minor": 4
}
