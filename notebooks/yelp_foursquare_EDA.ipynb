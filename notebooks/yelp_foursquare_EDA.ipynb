{
 "cells": [
  {
   "cell_type": "code",
   "execution_count": 19,
   "metadata": {},
   "outputs": [],
   "source": [
    "import requests\n",
    "import os\n",
    "import matplotlib.pyplot as plt\n",
    "import seaborn as sns\n",
    "\n",
    "foursquare_api_key = os.getenv('Foursquare_api_key')\n",
    "yelp_api_key = os.getenv('Yelp_api_key')"
   ]
  },
  {
   "cell_type": "markdown",
   "metadata": {},
   "source": [
    "# Foursquare"
   ]
  },
  {
   "cell_type": "markdown",
   "metadata": {},
   "source": [
    "Send a request to Foursquare with a small radius (1000m) for all the bike stations in your city of choice. "
   ]
  },
  {
   "cell_type": "code",
   "execution_count": 3,
   "metadata": {},
   "outputs": [
    {
     "name": "stdout",
     "output_type": "stream",
     "text": [
      "Response is success\n"
     ]
    }
   ],
   "source": [
    "foursquare_url = \"https://api.foursquare.com/v3/places/search?radius=1000\"\n",
    "\n",
    "foursquare_headers = {\n",
    "    \"accept\": \"application/json\",\n",
    "    \"Authorization\": f\"{foursquare_api_key}\"\n",
    "}\n",
    "\n",
    "response = requests.get(foursquare_url, headers=foursquare_headers)\n",
    "\n",
    "# check the request format and whether response is success or not\n",
    "if response.status_code == 200:\n",
    "    response_json = response.json()\n",
    "    print(\"Response is success\")\n",
    "\n",
    "else:\n",
    "    print(f\"Error: {response.status_code}, {response.text}\")"
   ]
  },
  {
   "cell_type": "markdown",
   "metadata": {},
   "source": [
    "Parse through the response to get the POI (such as restaurants, bars, etc) details you want (ratings, name, location, etc)"
   ]
  },
  {
   "cell_type": "markdown",
   "metadata": {},
   "source": [
    "Put your parsed results into a DataFrame"
   ]
  },
  {
   "cell_type": "code",
   "execution_count": 4,
   "metadata": {},
   "outputs": [
    {
     "name": "stdout",
     "output_type": "stream",
     "text": [
      "                                                    0\n",
      "0   b'{\"results\":[{\"fsq_id\":\"37abc103cc2049fe282d7...\n",
      "1   b's\":{\"main\":{\"latitude\":53.518497,\"longitude\"...\n",
      "2   b'04 Getty Gate NW\",\"country\":\"CA\",\"formatted_...\n",
      "3   b'\"T5T 4S8\",\"region\":\"AB\"},\"name\":\"Stafford Gr...\n",
      "4   b'0f6eb780\",\"categories\":[{\"id\":11084,\"name\":\"...\n",
      "..                                                ...\n",
      "58  b'CA\",\"cross_street\":\"\",\"formatted_address\":\"1...\n",
      "59  b'4K5\",\"region\":\"AB\"},\"name\":\"Browns Socialhou...\n",
      "60  b'egories\":[{\"id\":17115,\"name\":\"Shopping Plaza...\n",
      "61  b'tps://ss3.4sqi.net/img/categories_v2/shops/m...\n",
      "62  b'on\"}],\"context\":{\"geo_bounds\":{\"circle\":{\"ce...\n",
      "\n",
      "[63 rows x 1 columns]\n"
     ]
    }
   ],
   "source": [
    "import pandas as pd\n",
    "\n",
    "params = {\n",
    "    'radius': 1000,\n",
    "    'll': '40.7243,-74.0018',\n",
    "    'query': 'coffee',\n",
    "}\n",
    "foursquare_response = requests.get(foursquare_url, headers=foursquare_headers)\n",
    "df_foursquare_response = pd.DataFrame(response)\n",
    "print(df_foursquare_response)\n",
    "\n",
    "# saving as a csv file and it's easy to explore the data\n",
    "df_foursquare_response.to_csv(\"C:/Users/kasun/Desktop/Data Analytics/Project 02/practice test/foursqaure.csv\")"
   ]
  },
  {
   "cell_type": "markdown",
   "metadata": {},
   "source": [
    "# Yelp"
   ]
  },
  {
   "cell_type": "markdown",
   "metadata": {},
   "source": [
    "Send a request to Yelp with a small radius (1000m) for all the bike stations in your city of choice. "
   ]
  },
  {
   "cell_type": "code",
   "execution_count": null,
   "metadata": {},
   "outputs": [],
   "source": [
    "yelp_url = \"https://api.yelp.com/v3/businesses/search\"\n",
    "yelp_params = {\n",
    "    'location' : 'NYC'\n",
    "}\n",
    "\n",
    "yelp_headers = {\n",
    "    \"accept\": \"application/json\",\n",
    "    \"Authorization\": f\"{yelp_api_key}\"\n",
    "}\n",
    "\n",
    "response = requests.get(yelp_url, headers=yelp_headers, params=yelp_params)\n",
    "\n",
    "# check the request format and whether response is success or not\n",
    "if response.status_code == 200:\n",
    "    response_json = response.json()\n",
    "    print(\"Response is success\")\n",
    "\n",
    "else:\n",
    "    print(f\"Error: {response.status_code}, {response.text}\")"
   ]
  },
  {
   "cell_type": "markdown",
   "metadata": {},
   "source": [
    "Parse through the response to get the POI (such as restaurants, bars, etc) details you want (ratings, name, location, etc)"
   ]
  },
  {
   "cell_type": "markdown",
   "metadata": {},
   "source": [
    "Put your parsed results into a DataFrame"
   ]
  },
  {
   "cell_type": "code",
   "execution_count": null,
   "metadata": {},
   "outputs": [],
   "source": [
    "yelp_params = {\n",
    "    'radius' : 1000,\n",
    "    'latitude': 40.7243,\n",
    "    'longitude' : -74.0018,\n",
    "    'query': 'coffee',\n",
    "}\n",
    "\n",
    "response_yelp = requests.get(yelp_url, headers=yelp_headers, params=yelp_params)\n",
    "\n",
    "print(response_yelp.text)"
   ]
  },
  {
   "cell_type": "code",
   "execution_count": 17,
   "metadata": {},
   "outputs": [],
   "source": [
    "data_yelp = response_yelp.json()\n",
    "    \n",
    "yelp_places = data_yelp.get('businesses', [])\n",
    "df_yelp_places = pd.DataFrame(yelp_places)\n",
    "\n",
    "df_yelp_places.to_csv(\"C:/Users/kasun/Desktop/Data Analytics/Project 02/practice test/yelp_data.csv\")"
   ]
  },
  {
   "cell_type": "markdown",
   "metadata": {},
   "source": [
    "# Comparing Results"
   ]
  },
  {
   "cell_type": "markdown",
   "metadata": {},
   "source": [
    "Which API provided you with more complete data? Provide an explanation. "
   ]
  },
  {
   "cell_type": "markdown",
   "metadata": {},
   "source": [
    "Yelp API is likely to provide more complete details, especially if you need information like business ratings, reviews, and detailed addresses. This makes it more suitable for applications where comprehensive business data is essential.\n",
    "\n",
    "Foursquare API, while potentially returning more results in terms of quantity (depending on the query and location), might not include as much detailed business information, making it less \"complete\" in that context. However, it could be more useful if you are specifically interested in location data or broader search categories."
   ]
  },
  {
   "cell_type": "markdown",
   "metadata": {},
   "source": [
    "Get the top 10 restaurants according to their rating"
   ]
  },
  {
   "cell_type": "code",
   "execution_count": 13,
   "metadata": {},
   "outputs": [
    {
     "name": "stdout",
     "output_type": "stream",
     "text": [
      "1. Stafford Greens - 7504 Getty Gate NW, Edmonton AB T5T 4S8 - Rating: 1\n",
      "2. Peter Cannon Construction - 695 Secord Blvd NW, Edmonton AB T5T 6Z6 - Rating: 1\n",
      "3. Grian of Rice - 1312 Webber Greens Dr NW, Edmonton AB T5T 7C5 - Rating: 1\n",
      "4. Tlc Independent Consultant - 8608 190A St NW, Edmonton AB T5T 4Y3 - Rating: 1\n",
      "5. Park West - 189 St (87 Ave. to 95 Ave.), Edmonton AB - Rating: 1\n",
      "6. Christian Reformed Churches - 19010 87 Ave NW, Edmonton AB T5T 6P2 - Rating: 1\n",
      "7. Prestige Fairway Target Greens Ltd - 19101 87 Ave NW, Edmonton AB T5T 5Z7 - Rating: 1\n",
      "8. Parkwest Pet Clinic - 18924 87 Ave NW, Edmonton AB T5T 6J1 - Rating: 1\n",
      "9. 87 Pizza & Donair - 18914 87 Ave NW (87 Avenue), Edmonton AB T5T 6J1 - Rating: 1\n",
      "10. Browns Socialhouse West Henday - 1010 Webber Greens Dr NW, Edmonton AB T5T 4K5 - Rating: 1\n"
     ]
    }
   ],
   "source": [
    "search_response = requests.get(url = foursquare_url, headers=foursquare_headers)\n",
    "df_search_response = pd.DataFrame(search_response)\n",
    "# print(df_search_response)\n",
    "df_search_response.to_csv(\"C:/Users/kasun/Desktop/Data Analytics/Project 02/practice test/top 10 restaurant/foursqaure_restau_response.csv\")\n",
    "\n",
    "if search_response.status_code == 200:\n",
    "    search_data = search_response.json()\n",
    "    places = search_data.get('results', [])\n",
    "\n",
    "    df_places = pd.DataFrame(places)\n",
    "    df_places.to_csv(\"C:/Users/kasun/Desktop/Data Analytics/Project 02/practice test/top 10 restaurant/filtered_foursqaure_restau_response.csv\")\n",
    "\n",
    "else:\n",
    "    print(f\"Error: {search_response.status_code}, {search_response.text}\")\n",
    "    places = []\n",
    "\n",
    "detail_url = 'https://api.foursquare.com/v3/places/'\n",
    "detailed_places = []\n",
    "\n",
    "for place in places:\n",
    "    place_id = place['fsq_id']\n",
    "    response = requests.get(f\"{detail_url}{place_id}\", headers=foursquare_headers)\n",
    "    \n",
    "    if response.status_code == 200:\n",
    "        detailed_info = response.json()\n",
    "        place['rating'] = detailed_info.get('rating', 1)\n",
    "        detailed_places.append(place)\n",
    "    else:\n",
    "        print(f\"Failed to get details for place ID {place_id}: {response.status_code}\")\n",
    "\n",
    "top_places = sorted(detailed_places, key=lambda x: x.get('rating', 1), reverse=True)[:10]\n",
    "\n",
    "for i, place in enumerate(top_places, start=1):\n",
    "    name = place.get('name', 'N/A')\n",
    "    address = place.get('location', {}).get('formatted_address', 'N/A')\n",
    "    rating = place.get('rating', 'N/A')\n",
    "    \n",
    "    print(f\"{i}. {name} - {address} - Rating: {rating}\")"
   ]
  },
  {
   "cell_type": "code",
   "execution_count": null,
   "metadata": {},
   "outputs": [],
   "source": []
  }
 ],
 "metadata": {
  "kernelspec": {
   "display_name": "Python 3",
   "language": "python",
   "name": "python3"
  },
  "language_info": {
   "codemirror_mode": {
    "name": "ipython",
    "version": 3
   },
   "file_extension": ".py",
   "mimetype": "text/x-python",
   "name": "python",
   "nbconvert_exporter": "python",
   "pygments_lexer": "ipython3",
   "version": "3.11.9"
  }
 },
 "nbformat": 4,
 "nbformat_minor": 4
}
