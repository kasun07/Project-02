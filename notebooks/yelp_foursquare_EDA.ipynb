{
 "cells": [
  {
   "cell_type": "code",
   "execution_count": null,
   "metadata": {},
   "outputs": [],
   "source": [
    "import requests"
   ]
  },
  {
   "cell_type": "markdown",
   "metadata": {},
   "source": [
    "# Foursquare"
   ]
  },
  {
   "cell_type": "markdown",
   "metadata": {},
   "source": [
    "Send a request to Foursquare with a small radius (1000m) for all the bike stations in your city of choice. "
   ]
  },
  {
   "cell_type": "code",
   "execution_count": null,
   "metadata": {},
   "outputs": [],
   "source": [
    "import requests\n",
    "\n",
    "url = \"https://api.foursquare.com/v3/places/search?radius=1000\"\n",
    "\n",
    "headers = {\n",
    "    \"accept\": \"application/json\",\n",
    "    \"Authorization\": \"fsq3XRUAarAkYkZaUxo7U14qSYIS91CYwbt1bF94/FymeqU=\"\n",
    "}\n",
    "\n",
    "response = requests.get(url, headers=headers)\n",
    "\n",
    "print(response.text)"
   ]
  },
  {
   "cell_type": "markdown",
   "metadata": {},
   "source": [
    "Parse through the response to get the POI (such as restaurants, bars, etc) details you want (ratings, name, location, etc)"
   ]
  },
  {
   "cell_type": "code",
   "execution_count": null,
   "metadata": {},
   "outputs": [],
   "source": [
    "import requests\n",
    "\n",
    "headers = {\n",
    "    \"accept\": \"application/json\",\n",
    "    \"Authorization\": \"fsq3XRUAarAkYkZaUxo7U14qSYIS91CYwbt1bF94/FymeqU=\"\n",
    "}\n",
    "\n",
    "url = \"https://api.foursquare.com/v3/places/search\"\n",
    "params = {\n",
    "    'radius': 1000,\n",
    "    'll': '40.7243,-74.0018',\n",
    "    'query': 'coffee',\n",
    "}\n",
    "response = requests.get(url, headers=headers)\n",
    "\n",
    "if response.status_code == 200:\n",
    "    print(response.text)\n",
    "\n",
    "else:\n",
    "    print(f\"Error: {response.status_code}, {response.text}\")"
   ]
  },
  {
   "cell_type": "markdown",
   "metadata": {},
   "source": [
    "Put your parsed results into a DataFrame"
   ]
  },
  {
   "cell_type": "code",
   "execution_count": null,
   "metadata": {},
   "outputs": [],
   "source": [
    "data = response.json()\n",
    "    \n",
    "for place in data['results']:\n",
    "    name = place.get('name', 'N/A')\n",
    "    address = place.get('location', {}).get('formatted_address', 'N/A')\n",
    "    categories = [category.get('name', 'N/A') for category in place.get('categories', [])]\n",
    "        \n",
    "    print(f\"Name: {name}\")\n",
    "    print(f\"Address: {address}\")\n",
    "    print(f\"Categories: {', '.join(categories)}\")\n",
    "    print(\"-----\")"
   ]
  },
  {
   "cell_type": "markdown",
   "metadata": {},
   "source": [
    "# Yelp"
   ]
  },
  {
   "cell_type": "markdown",
   "metadata": {},
   "source": [
    "Send a request to Yelp with a small radius (1000m) for all the bike stations in your city of choice. "
   ]
  },
  {
   "cell_type": "code",
   "execution_count": null,
   "metadata": {},
   "outputs": [],
   "source": [
    "import requests\n",
    "\n",
    "url = \"https://api.yelp.com/v3/businesses/search\"\n",
    "params = {\n",
    "    'radius' : 1000\n",
    "}\n",
    "\n",
    "headers = {\n",
    "    \"accept\": \"application/json\",\n",
    "    \"Authorization\": \"oCE9nQh4V-FyXHEU0GDnZV-cdmqUWjYgoS_7OkG7XEEi8KDgtqVRZlYkcQn_q94PrjNaIhgq7nfLWb0wNk2wn_2RNBjm_lm4vGIkkWW6OhQ9xru_q3QRjywgg6myZnYx\"\n",
    "}\n",
    "\n",
    "response = requests.get(url, headers=headers)\n",
    "\n",
    "print(response.text)"
   ]
  },
  {
   "cell_type": "markdown",
   "metadata": {},
   "source": [
    "Parse through the response to get the POI (such as restaurants, bars, etc) details you want (ratings, name, location, etc)"
   ]
  },
  {
   "cell_type": "code",
   "execution_count": null,
   "metadata": {},
   "outputs": [],
   "source": [
    "url = \"https://api.yelp.com/v3/businesses/search\"\n",
    "params = {\n",
    "    'radius' : 1000,\n",
    "    'latitude': 40.7243,\n",
    "    'longitude' : -74.0018,\n",
    "    'query': 'coffee',\n",
    "}\n",
    "\n",
    "headers = {\n",
    "    \"accept\": \"application/json\",\n",
    "    \"Authorization\": \"oCE9nQh4V-FyXHEU0GDnZV-cdmqUWjYgoS_7OkG7XEEi8KDgtqVRZlYkcQn_q94PrjNaIhgq7nfLWb0wNk2wn_2RNBjm_lm4vGIkkWW6OhQ9xru_q3QRjywgg6myZnYx\"\n",
    "}\n",
    "\n",
    "response_yelp = requests.get(url, headers=headers)\n",
    "\n",
    "print(response_yelp.text)"
   ]
  },
  {
   "cell_type": "markdown",
   "metadata": {},
   "source": [
    "Put your parsed results into a DataFrame"
   ]
  },
  {
   "cell_type": "code",
   "execution_count": null,
   "metadata": {},
   "outputs": [],
   "source": [
    "data_yelp = response_yelp.json()\n",
    "    \n",
    "for place in data_yelp['results']:\n",
    "    name = place.get('name', 'N/A')\n",
    "    address = place.get('location', {}).get('formatted_address', 'N/A')\n",
    "    categories = [category.get('name', 'N/A') for category in place.get('categories', [])]\n",
    "        \n",
    "    print(f\"Name: {name}\")\n",
    "    print(f\"Address: {address}\")\n",
    "    print(f\"Categories: {', '.join(categories)}\")\n",
    "    print(\"-----\")\n"
   ]
  },
  {
   "cell_type": "markdown",
   "metadata": {},
   "source": [
    "# Comparing Results"
   ]
  },
  {
   "cell_type": "markdown",
   "metadata": {},
   "source": [
    "Which API provided you with more complete data? Provide an explanation. "
   ]
  },
  {
   "cell_type": "markdown",
   "metadata": {},
   "source": []
  },
  {
   "cell_type": "markdown",
   "metadata": {},
   "source": [
    "Get the top 10 restaurants according to their rating"
   ]
  },
  {
   "cell_type": "code",
   "execution_count": null,
   "metadata": {},
   "outputs": [],
   "source": []
  }
 ],
 "metadata": {
  "kernelspec": {
   "display_name": "Python 3",
   "language": "python",
   "name": "python3"
  },
  "language_info": {
   "codemirror_mode": {
    "name": "ipython",
    "version": 3
   },
   "file_extension": ".py",
   "mimetype": "text/x-python",
   "name": "python",
   "nbconvert_exporter": "python",
   "pygments_lexer": "ipython3",
   "version": "3.11.9"
  }
 },
 "nbformat": 4,
 "nbformat_minor": 4
}
