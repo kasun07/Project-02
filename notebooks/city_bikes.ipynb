{
 "cells": [
  {
   "cell_type": "markdown",
   "metadata": {},
   "source": [
    "# CityBikes"
   ]
  },
  {
   "cell_type": "markdown",
   "metadata": {},
   "source": [
    "Send a request to CityBikes for the city of your choice. "
   ]
  },
  {
   "cell_type": "code",
   "execution_count": null,
   "metadata": {},
   "outputs": [],
   "source": [
    "import requests\n",
    "import pandas as pd\n",
    "\n",
    "url = \"http://api.citybik.es/v2/networks\"\n",
    "\n",
    "response = requests.get(url)\n",
    "\n",
    "if response.status_code == 200:\n",
    "   \n",
    "    response_data = response.json()\n",
    "    networks = response_data.get('networks', [])\n",
    "    df_networks = pd.DataFrame(networks)\n",
    "    df_networks.to_csv(\"C:/Users/kasun/Desktop/Data Analytics/Project 02/practice test/part 01/cityBike.csv\")\n",
    "\n",
    "    vancouver_network = None\n",
    "    \n",
    "    for i in networks:\n",
    "        if i['location']['city'].lower() == 'vancouver':# select the city vancouver in location dictionary and city key word\n",
    "            vancouver_network = i\n",
    "            break\n",
    "    \n",
    "    if vancouver_network:\n",
    "        network_id = vancouver_network['id']\n",
    "        details_url = f\"http://api.citybik.es/v2/networks/{network_id}\" # point to the specific network \n",
    "        details_response = requests.get(details_url)\n",
    "        \n",
    "        if details_response.status_code == 200:\n",
    "            vancouver_details = details_response.json()\n",
    "            \n",
    "            print(f\"Details for Vancouver Network (ID: {network_id}):\")\n",
    "            print(vancouver_details)\n",
    "        else:\n",
    "            print(f\"Failed to retrieve details for Vancouver network: {details_response.status_code}\")\n",
    "    else:\n",
    "        print(\"Vancouver network not found.\")\n",
    "else:\n",
    "    print(f\"Failed to retrieve data: {response.status_code}\")"
   ]
  },
  {
   "cell_type": "markdown",
   "metadata": {},
   "source": [
    "Parse through the response to get the details you want for the bike stations in that city (latitude, longitude, number of bikes). "
   ]
  },
  {
   "cell_type": "code",
   "execution_count": null,
   "metadata": {},
   "outputs": [],
   "source": [
    "print(f\"Bike Stations in Vancouver (Network ID: {network_id}):\")\n",
    "print('-' * 40)\n",
    "stations_in_vancouver = vancouver_details.get('network', {}).get('stations', [])\n",
    "for i in stations_in_vancouver:\n",
    "    latitude = i.get('latitude')\n",
    "    longitude = i.get('longitude')\n",
    "    free_bikes = i.get('free_bikes')\n",
    "               \n",
    "    print(f\"Station Name: {i.get('name')}\")\n",
    "    print(f\"Latitude: {latitude}\")\n",
    "    print(f\"Longitude: {longitude}\")\n",
    "    print(f\"Number of Bikes: {free_bikes}\")\n",
    "    print('-' * 40)\n",
    "else:\n",
    "    print(f\"Failed to retrieve details for Vancouver network: {details_response.status_code}\")"
   ]
  },
  {
   "cell_type": "markdown",
   "metadata": {},
   "source": [
    "Put your parsed results into a DataFrame."
   ]
  },
  {
   "cell_type": "code",
   "execution_count": 3,
   "metadata": {},
   "outputs": [
    {
     "name": "stdout",
     "output_type": "stream",
     "text": [
      "              Station Name   Latitude   Longitude  Number of Bikes\n",
      "0         Chilco & Barclay  49.291909 -123.140713                3\n",
      "1     St George & Broadway  49.262321 -123.093060                2\n",
      "2    Britannia Parking Lot  49.275882 -123.071865                8\n",
      "3          Morton & Denman  49.288030 -123.142135               12\n",
      "4      Thornton & National  49.273777 -123.092723                7\n",
      "..                     ...        ...         ...              ...\n",
      "251          7th & Heather  49.265089 -123.119425                2\n",
      "252        Union & Dunlevy  49.277595 -123.095830               14\n",
      "253    Richards & Helmcken  49.277141 -123.122589                4\n",
      "254        Keefer & Abbott  49.279821 -123.108020                9\n",
      "255    8th & Prince Edward  49.263518 -123.095680                2\n",
      "\n",
      "[256 rows x 4 columns]\n"
     ]
    }
   ],
   "source": [
    "import pandas as pd\n",
    "\n",
    "station_data = []\n",
    "for i in stations_in_vancouver:\n",
    "    station_info = {\n",
    "        'Station Name': i.get('name'),\n",
    "        'Latitude': i.get('latitude'),\n",
    "        'Longitude': i.get('longitude'),\n",
    "        'Number of Bikes': i.get('free_bikes')\n",
    "    }\n",
    "    station_data.append(station_info)\n",
    "\n",
    "    df_station_data = pd.DataFrame(station_data)\n",
    "            \n",
    "print(df_station_data)\n",
    "\n",
    "df_station_data.to_csv(\"C:/Users/kasun/Desktop/Data Analytics/Project 02/practice test/cityBike.csv\")"
   ]
  },
  {
   "cell_type": "code",
   "execution_count": null,
   "metadata": {},
   "outputs": [],
   "source": []
  }
 ],
 "metadata": {
  "kernelspec": {
   "display_name": "Python 3",
   "language": "python",
   "name": "python3"
  },
  "language_info": {
   "codemirror_mode": {
    "name": "ipython",
    "version": 3
   },
   "file_extension": ".py",
   "mimetype": "text/x-python",
   "name": "python",
   "nbconvert_exporter": "python",
   "pygments_lexer": "ipython3",
   "version": "3.11.9"
  }
 },
 "nbformat": 4,
 "nbformat_minor": 4
}
