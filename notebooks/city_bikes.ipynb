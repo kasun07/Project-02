{
 "cells": [
  {
   "cell_type": "markdown",
   "metadata": {},
   "source": [
    "# CityBikes"
   ]
  },
  {
   "cell_type": "markdown",
   "metadata": {},
   "source": [
    "Send a request to CityBikes for the city of your choice. "
   ]
  },
  {
   "cell_type": "code",
   "execution_count": null,
   "metadata": {},
   "outputs": [],
   "source": [
    "import requests\n",
    "\n",
    "url = \"http://api.citybik.es/v2/networks\"\n",
    "\n",
    "response = requests.get(url)\n",
    "\n",
    "if response.status_code == 200:\n",
    "   \n",
    "    response_data = response.json()\n",
    "    \n",
    "    networks = response_data.get('networks', [])\n",
    "    vancouver_network = None\n",
    "    for i in networks:\n",
    "        if i['location']['city'].lower() == 'vancouver':\n",
    "            vancouver_network = i\n",
    "            break\n",
    "    \n",
    "    if vancouver_network:\n",
    "        network_id = vancouver_network['id']\n",
    "        details_url = f\"http://api.citybik.es/v2/networks/{network_id}\"\n",
    "        details_response = requests.get(details_url)\n",
    "        \n",
    "        if details_response.status_code == 200:\n",
    "            vancouver_details = details_response.json()\n",
    "            \n",
    "            print(f\"Details for Vancouver Network (ID: {network_id}):\")\n",
    "            print(vancouver_details)\n",
    "        else:\n",
    "            print(f\"Failed to retrieve details for Vancouver network: {details_response.status_code}\")\n",
    "    else:\n",
    "        print(\"Vancouver network not found.\")\n",
    "else:\n",
    "    print(f\"Failed to retrieve data: {response.status_code}\")"
   ]
  },
  {
   "cell_type": "markdown",
   "metadata": {},
   "source": [
    "Parse through the response to get the details you want for the bike stations in that city (latitude, longitude, number of bikes). "
   ]
  },
  {
   "cell_type": "code",
   "execution_count": null,
   "metadata": {},
   "outputs": [],
   "source": [
    "print(f\"Bike Stations in Vancouver (Network ID: {network_id}):\")\n",
    "print('-' * 40)\n",
    "stations_in_vancouver = vancouver_details.get('network', {}).get('stations', [])\n",
    "for i in stations_in_vancouver:\n",
    "    latitude = i.get('latitude')\n",
    "    longitude = i.get('longitude')\n",
    "    free_bikes = i.get('free_bikes')\n",
    "               \n",
    "    print(f\"Station Name: {i.get('name')}\")\n",
    "    print(f\"Latitude: {latitude}\")\n",
    "    print(f\"Longitude: {longitude}\")\n",
    "    print(f\"Number of Bikes: {free_bikes}\")\n",
    "    print('-' * 40)\n",
    "else:\n",
    "    print(f\"Failed to retrieve details for Vancouver network: {details_response.status_code}\")"
   ]
  },
  {
   "cell_type": "markdown",
   "metadata": {},
   "source": [
    "Put your parsed results into a DataFrame."
   ]
  },
  {
   "cell_type": "code",
   "execution_count": null,
   "metadata": {},
   "outputs": [],
   "source": [
    "import pandas as pd\n",
    "\n",
    "station_data = []\n",
    "for i in stations_in_vancouver:\n",
    "    station_info = {\n",
    "        'Station Name': i.get('name'),\n",
    "        'Latitude': i.get('latitude'),\n",
    "        'Longitude': i.get('longitude'),\n",
    "        'Number of Bikes': i.get('free_bikes')\n",
    "    }\n",
    "    station_data.append(station_info)\n",
    "\n",
    "    df = pd.DataFrame(station_data)\n",
    "            \n",
    "print(df)"
   ]
  }
 ],
 "metadata": {
  "kernelspec": {
   "display_name": "Python 3",
   "language": "python",
   "name": "python3"
  },
  "language_info": {
   "codemirror_mode": {
    "name": "ipython",
    "version": 3
   },
   "file_extension": ".py",
   "mimetype": "text/x-python",
   "name": "python",
   "nbconvert_exporter": "python",
   "pygments_lexer": "ipython3",
   "version": "3.11.9"
  }
 },
 "nbformat": 4,
 "nbformat_minor": 4
}
