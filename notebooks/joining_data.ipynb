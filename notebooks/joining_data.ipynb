{
 "cells": [
  {
   "cell_type": "markdown",
   "metadata": {},
   "source": [
    "Join the data from Part 1 with the data from Part 2 to create a new dataframe."
   ]
  },
  {
   "cell_type": "markdown",
   "metadata": {},
   "source": [
    "Provide a visualization that you used as part of your EDA process. Explain the initial pattern or relationship you discoved through this visualization. "
   ]
  },
  {
   "cell_type": "code",
   "execution_count": null,
   "metadata": {},
   "outputs": [],
   "source": [
    "import requests\n",
    "import pandas as pd\n",
    "import matplotlib.pyplot as plt\n",
    "\n",
    "# Retrieve bike station data (DF1)\n",
    "url = \"http://api.citybik.es/v2/networks\"\n",
    "response = requests.get(url)\n",
    "\n",
    "if response.status_code == 200:\n",
    "    response_data = response.json()\n",
    "    print(response_data) # check the format of the response\n",
    "    networks = response_data.get('networks', [])\n",
    "    df_networks = pd.DataFrame(networks)\n",
    "    print(df_networks)\n",
    "    df_networks.to_csv('C:/Users/kasun/Desktop/Data Analytics/Project 02/practice test/Joining API Question/df_networks.csv') # to check the format as excel. this provides more clear picture\n",
    "\n",
    "    # select the vancouver city from the data and filter bike station name, latitude and longitude\n",
    "    vancouver_network = None\n",
    "    \n",
    "    for i in networks:\n",
    "        if i['location']['city'].lower() == 'vancouver': # select the city as Vancouver\n",
    "            vancouver_network = i\n",
    "            break\n",
    "    \n",
    "    if vancouver_network:\n",
    "        network_id = vancouver_network['id'] # get the vancouver city id\n",
    "        details_url = f\"http://api.citybik.es/v2/networks/{network_id}\" # point to the vancouver city endpoint by city id\n",
    "        details_response = requests.get(details_url)\n",
    "        \n",
    "        if details_response.status_code == 200:\n",
    "            vancouver_details = details_response.json()\n",
    "            print(vancouver_details) \n",
    "            df_vancouver_details = pd.DataFrame(vancouver_details)\n",
    "            print(df_vancouver_details)\n",
    "            stations = vancouver_details['network']['stations']\n",
    "            \n",
    "            vancouver_data = [{'Name': station['name'], 'Latitude': station['latitude'], 'Longitude': station['longitude']} for station in stations]\n",
    "            df_vancouver_data = pd.DataFrame(vancouver_data)\n",
    "            df_vancouver_data.to_csv('C:/Users/kasun/Desktop/Data Analytics/Project 02/practice test/Joining API Question/citybike_created_df.csv') # to check the format as excel. this provides more clear picture\n",
    "        else:\n",
    "            raise Exception(f\"Failed to retrieve details for Vancouver network: {details_response.status_code}\")\n",
    "    else:\n",
    "        raise Exception(\"Vancouver network not found.\")\n",
    "else:\n",
    "    raise Exception(f\"Failed to retrieve data: {response.status_code}\")"
   ]
  },
  {
   "cell_type": "code",
   "execution_count": 5,
   "metadata": {},
   "outputs": [],
   "source": [
    "headers = {\n",
    "    \"Accept\": \"application/json\",\n",
    "    \"Authorization\": \"fsq3XRUAarAkYkZaUxo7U14qSYIS91CYwbt1bF94/FymeqU=\"\n",
    "}\n",
    "\n",
    "url = \"https://api.foursquare.com/v3/places/search\"\n",
    "params = {\n",
    "    'radius': 100000,\n",
    "    'll': '49.262487,-123.114397',\n",
    "    'categories': '13065,13056', \n",
    "    'fields': 'name,geocodes'\n",
    "}\n",
    "\n",
    "response = requests.get(url, headers=headers, params=params)\n",
    "\n",
    "if response.status_code == 200:\n",
    "    response_data = response.json()\n",
    "    restaurant_bars_places = response_data.get('results', [])\n",
    "    df_restaurant_bars_places = pd.DataFrame(restaurant_bars_places)\n",
    "\n",
    "    df_restaurant_bars_places.to_csv('C:/Users/kasun/Desktop/Data Analytics/Project 02/practice test/Joining API Question/df_restaurant_bars_places.csv')\n",
    "    dining_and_drinking = [\n",
    "        {\n",
    "            'Name': i.get('name'),\n",
    "            'Latitude': i['geocodes']['main']['latitude'] if 'geocodes' in i and 'main' in i['geocodes'] else None,\n",
    "            'Longitude': i['geocodes']['main']['longitude'] if 'geocodes' in i and 'main' in i['geocodes'] else None\n",
    "        }\n",
    "        for i in restaurant_bars_places\n",
    "    ]\n",
    "    \n",
    "    df_dining_and_drinking = pd.DataFrame(dining_and_drinking)\n",
    "    df_dining_and_drinking.to_csv('C:/Users/kasun/Desktop/Data Analytics/Project 02/practice test/Joining API Question/foursquare_created_df.csv')\n",
    "else:\n",
    "    raise Exception(f\"Error: {response.status_code}, {response.text}\")"
   ]
  },
  {
   "cell_type": "code",
   "execution_count": null,
   "metadata": {},
   "outputs": [],
   "source": [
    "df_vancouver_data['Type'] = 'Bike Station'\n",
    "df_dining_and_drinking['Type'] = 'Restaurant/Bar'\n",
    "combined_df = pd.concat([df_vancouver_data, df_dining_and_drinking])\n",
    "\n",
    "combined_df.to_csv('C:/Users/kasun/Desktop/Data Analytics/Project 02/practice test/Joining API Question/combined_df.csv')\n",
    "\n",
    "plt.figure(figsize=(10, 6))\n",
    "plt.scatter(df_vancouver_data['Longitude'], df_vancouver_data['Latitude'], label='Bike Stations', color='blue', alpha=0.6, edgecolors='w', s=100)\n",
    "plt.scatter(df_dining_and_drinking['Longitude'], df_dining_and_drinking['Latitude'], label='Restaurants/Bars', color='red', alpha=0.6, edgecolors='w', s=100)\n",
    "plt.xlabel('Longitude')\n",
    "plt.ylabel('Latitude')\n",
    "plt.title('Bike Stations and Restaurants/Bars in Vancouver')\n",
    "plt.legend()\n",
    "plt.grid(True)\n",
    "plt.show()"
   ]
  },
  {
   "cell_type": "markdown",
   "metadata": {},
   "source": [
    "# Database"
   ]
  },
  {
   "cell_type": "markdown",
   "metadata": {},
   "source": [
    "Put all your results in an SQLite3 database (remember, SQLite stores its databases as files in your local machine - make sure to create your database in your project's data/ directory!)"
   ]
  },
  {
   "cell_type": "code",
   "execution_count": 7,
   "metadata": {},
   "outputs": [],
   "source": [
    "import sqlite3\n",
    "\n",
    "# Define the path to your SQLite database\n",
    "db_path = 'C:/Users/kasun/Desktop/Data Analytics/Project 02/practice test/Joining API Question/project_data.db'\n",
    "\n",
    "# Create a connection to the SQLite database\n",
    "conn = sqlite3.connect(db_path)\n",
    "\n",
    "# Write DataFrames to SQLite database\n",
    "df_vancouver_data.to_sql('bike_stations', conn, if_exists='replace', index=False)\n",
    "df_dining_and_drinking.to_sql('restaurants_bars', conn, if_exists='replace', index=False)\n",
    "combined_df.to_sql('combined_data', conn, if_exists='replace', index=False)\n",
    "\n",
    "# Commit changes and close the connection\n",
    "conn.commit()\n",
    "conn.close()"
   ]
  },
  {
   "cell_type": "code",
   "execution_count": null,
   "metadata": {},
   "outputs": [],
   "source": [
    "# Get the longitude and latitude of a particular bike station by name\n",
    "db_path = 'C:/Users/kasun/Desktop/Data Analytics/Project 02/practice test/Joining API Question/project_data.db'\n",
    "\n",
    "conn = sqlite3.connect(db_path)\n",
    "cursor = conn.cursor()\n",
    "\n",
    "# select the bike station name that require the latitude and logitude \n",
    "station_name = 'Cambie & Water'\n",
    "\n",
    "query = \"\"\"\n",
    "SELECT Latitude, Longitude \n",
    "FROM bike_stations\n",
    "WHERE Name = ?\n",
    "\"\"\"\n",
    "\n",
    "# Execute the query\n",
    "cursor.execute(query, (station_name,)) \n",
    "result = cursor.fetchone()\n",
    "\n",
    "# Check if the result is not None\n",
    "if result:\n",
    "    latitude, longitude = result\n",
    "    print(f\"The latitude and longitude of '{station_name}' are: {latitude}, {longitude}\")\n",
    "else:\n",
    "    print(f\"No bike station found with the name '{station_name}'\")\n",
    "\n",
    "# Close the connection\n",
    "conn.close()"
   ]
  },
  {
   "cell_type": "markdown",
   "metadata": {},
   "source": [
    "Look at the data before and after the join to validate your data."
   ]
  },
  {
   "cell_type": "code",
   "execution_count": null,
   "metadata": {},
   "outputs": [],
   "source": []
  }
 ],
 "metadata": {
  "kernelspec": {
   "display_name": "Python 3",
   "language": "python",
   "name": "python3"
  },
  "language_info": {
   "codemirror_mode": {
    "name": "ipython",
    "version": 3
   },
   "file_extension": ".py",
   "mimetype": "text/x-python",
   "name": "python",
   "nbconvert_exporter": "python",
   "pygments_lexer": "ipython3",
   "version": "3.11.9"
  }
 },
 "nbformat": 4,
 "nbformat_minor": 4
}
