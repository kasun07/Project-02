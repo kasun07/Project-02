{
 "cells": [
  {
   "cell_type": "markdown",
   "metadata": {},
   "source": [
    "Build a regression model."
   ]
  },
  {
   "cell_type": "markdown",
   "metadata": {},
   "source": [
    "Provide model output and an interpretation of the results. "
   ]
  },
  {
   "cell_type": "code",
   "execution_count": 1,
   "metadata": {},
   "outputs": [
    {
     "name": "stdout",
     "output_type": "stream",
     "text": [
      "                               OLS Regression Results                              \n",
      "===================================================================================\n",
      "Dep. Variable:     Number of Bike Stations   R-squared:                        -inf\n",
      "Model:                                 OLS   Adj. R-squared:                   -inf\n",
      "Method:                      Least Squares   F-statistic:                    -254.0\n",
      "Date:                     Sat, 31 Aug 2024   Prob (F-statistic):               1.00\n",
      "Time:                             20:42:26   Log-Likelihood:                 8111.5\n",
      "No. Observations:                      256   AIC:                        -1.622e+04\n",
      "Df Residuals:                          254   BIC:                        -1.621e+04\n",
      "Df Model:                                1                                         \n",
      "Covariance Type:                 nonrobust                                         \n",
      "==================================================================================================\n",
      "                                     coef    std err          t      P>|t|      [0.025      0.975]\n",
      "--------------------------------------------------------------------------------------------------\n",
      "const                              1.0000   3.77e-15   2.65e+14      0.000       1.000       1.000\n",
      "Number of Restaurants and Bars    5.1e-16   3.79e-16      1.346      0.180   -2.36e-16    1.26e-15\n",
      "==============================================================================\n",
      "Omnibus:                      448.274   Durbin-Watson:                   0.013\n",
      "Prob(Omnibus):                  0.000   Jarque-Bera (JB):           101737.769\n",
      "Skew:                           9.691   Prob(JB):                         0.00\n",
      "Kurtosis:                      98.720   Cond. No.                         144.\n",
      "==============================================================================\n",
      "\n",
      "Notes:\n",
      "[1] Standard Errors assume that the covariance matrix of the errors is correctly specified.\n",
      "Most Suitable Location:\n",
      "Latitude                              49.291909\n",
      "Longitude                           -123.140713\n",
      "Number of Restaurants and Bars        10.000000\n",
      "Number of Bike Stations                1.000000\n",
      "Predicted Number of Bike Stations      1.000000\n",
      "Name: 0, dtype: float64\n"
     ]
    },
    {
     "name": "stderr",
     "output_type": "stream",
     "text": [
      "C:\\Users\\kasun\\AppData\\Local\\Packages\\PythonSoftwareFoundation.Python.3.11_qbz5n2kfra8p0\\LocalCache\\local-packages\\Python311\\site-packages\\statsmodels\\regression\\linear_model.py:1783: RuntimeWarning: divide by zero encountered in scalar divide\n",
      "  return 1 - self.ssr/self.centered_tss\n"
     ]
    }
   ],
   "source": [
    "import requests\n",
    "import pandas as pd\n",
    "import statsmodels.api as sm\n",
    "\n",
    "url = \"http://api.citybik.es/v2/networks\"\n",
    "response = requests.get(url)\n",
    "\n",
    "if response.status_code == 200:\n",
    "    response_data = response.json()\n",
    "    networks = response_data.get('networks', [])\n",
    "    vancouver_network = None\n",
    "    for network in networks:\n",
    "        if network['location']['city'].lower() == 'vancouver':\n",
    "            vancouver_network = network\n",
    "            break\n",
    "\n",
    "    if vancouver_network:\n",
    "        network_id = vancouver_network['id']\n",
    "        details_url = f\"http://api.citybik.es/v2/networks/{network_id}\"\n",
    "        details_response = requests.get(details_url)\n",
    "        \n",
    "        if details_response.status_code == 200:\n",
    "            vancouver_details = details_response.json()\n",
    "            stations_in_vancouver = vancouver_details.get('network', {}).get('stations', [])\n",
    "        else:\n",
    "            print(f\"Failed to retrieve details for Vancouver network: {details_response.status_code}\")\n",
    "    else:\n",
    "        print(\"Vancouver network not found.\")\n",
    "else:\n",
    "    print(f\"Failed to retrieve data: {response.status_code}\")\n",
    "\n",
    "foursquare_headers = {\n",
    "    \"accept\": \"application/json\",\n",
    "    \"Authorization\": \"fsq3XRUAarAkYkZaUxo7U14qSYIS91CYwbt1bF94/FymeqU=\"\n",
    "}\n",
    "foursquare_url = \"https://api.foursquare.com/v3/places/search\"\n",
    "\n",
    "station_data = []\n",
    "\n",
    "for station in stations_in_vancouver:\n",
    "    latitude = station['latitude']\n",
    "    longitude = station['longitude']\n",
    "    params = {\n",
    "        'll': f'{latitude},{longitude}',\n",
    "        'radius': 1000,\n",
    "        'categories': '13065,13027'\n",
    "    }\n",
    "    response = requests.get(foursquare_url, headers=foursquare_headers, params=params)\n",
    "    \n",
    "    if response.status_code == 200:\n",
    "        data = response.json()\n",
    "        places = data.get('results', [])\n",
    "        num_places = len(places)\n",
    "        station_data.append({\n",
    "            'Latitude': latitude,\n",
    "            'Longitude': longitude,\n",
    "            'Number of Restaurants and Bars': num_places\n",
    "        })\n",
    "    else:\n",
    "        print(f\"Failed to retrieve data from Foursquare API: {response.status_code}\")\n",
    "\n",
    "df = pd.DataFrame(station_data)\n",
    "\n",
    "df['Number of Bike Stations'] = [1] * len(df)\n",
    "\n",
    "X = df[['Number of Restaurants and Bars']]\n",
    "X = sm.add_constant(X)\n",
    "y = df['Number of Bike Stations']\n",
    "\n",
    "ols_model = sm.OLS(y, X).fit()\n",
    "\n",
    "print(ols_model.summary())\n",
    "\n",
    "df['Predicted Number of Bike Stations'] = ols_model.predict(X)\n",
    "\n",
    "most_suitable_location = df.loc[df['Predicted Number of Bike Stations'].idxmax()]\n",
    "\n",
    "print(\"Most Suitable Location:\")\n",
    "print(most_suitable_location)"
   ]
  },
  {
   "cell_type": "markdown",
   "metadata": {},
   "source": [
    "# Stretch"
   ]
  },
  {
   "cell_type": "markdown",
   "metadata": {},
   "source": [
    "How can you turn the regression model into a classification model?"
   ]
  },
  {
   "cell_type": "code",
   "execution_count": 1,
   "metadata": {},
   "outputs": [
    {
     "name": "stdout",
     "output_type": "stream",
     "text": [
      "[[ 0  1]\n",
      " [ 0 53]]\n",
      "              precision    recall  f1-score   support\n",
      "\n",
      "         Low       0.00      0.00      0.00         1\n",
      "      Medium       0.98      1.00      0.99        53\n",
      "\n",
      "    accuracy                           0.98        54\n",
      "   macro avg       0.49      0.50      0.50        54\n",
      "weighted avg       0.96      0.98      0.97        54\n",
      "\n"
     ]
    },
    {
     "name": "stderr",
     "output_type": "stream",
     "text": [
      "C:\\Users\\kasun\\AppData\\Local\\Packages\\PythonSoftwareFoundation.Python.3.11_qbz5n2kfra8p0\\LocalCache\\local-packages\\Python311\\site-packages\\sklearn\\metrics\\_classification.py:1531: UndefinedMetricWarning: Precision is ill-defined and being set to 0.0 in labels with no predicted samples. Use `zero_division` parameter to control this behavior.\n",
      "  _warn_prf(average, modifier, f\"{metric.capitalize()} is\", len(result))\n",
      "C:\\Users\\kasun\\AppData\\Local\\Packages\\PythonSoftwareFoundation.Python.3.11_qbz5n2kfra8p0\\LocalCache\\local-packages\\Python311\\site-packages\\sklearn\\metrics\\_classification.py:1531: UndefinedMetricWarning: Precision is ill-defined and being set to 0.0 in labels with no predicted samples. Use `zero_division` parameter to control this behavior.\n",
      "  _warn_prf(average, modifier, f\"{metric.capitalize()} is\", len(result))\n",
      "C:\\Users\\kasun\\AppData\\Local\\Packages\\PythonSoftwareFoundation.Python.3.11_qbz5n2kfra8p0\\LocalCache\\local-packages\\Python311\\site-packages\\sklearn\\metrics\\_classification.py:1531: UndefinedMetricWarning: Precision is ill-defined and being set to 0.0 in labels with no predicted samples. Use `zero_division` parameter to control this behavior.\n",
      "  _warn_prf(average, modifier, f\"{metric.capitalize()} is\", len(result))\n"
     ]
    }
   ],
   "source": [
    "import pandas as pd\n",
    "from sklearn.model_selection import train_test_split\n",
    "from sklearn.linear_model import LogisticRegression\n",
    "from sklearn.metrics import classification_report, confusion_matrix\n",
    "from sklearn.preprocessing import Binarizer\n",
    "\n",
    "file_path = 'C:/Users/kasun/Desktop/Data Analytics/Project 02/practice test/Joining API Question/citybike_created_df.csv'\n",
    "df_vancouver_data = pd.read_csv(file_path)\n",
    "\n",
    "file_path = 'C:/Users/kasun/Desktop/Data Analytics/Project 02/practice test/Joining API Question/foursquare_created_df.csv'\n",
    "df_dining_and_drinking = pd.read_csv(file_path)\n",
    "\n",
    "df_vancouver_data['Type'] = 'Bike Station'\n",
    "df_dining_and_drinking['Type'] = 'Restaurant/Bar'\n",
    "combined_df = pd.concat([df_vancouver_data, df_dining_and_drinking])\n",
    "\n",
    "\n",
    "\n",
    "# Prepare features and target variable\n",
    "combined_df = combined_df.dropna(subset=['Latitude', 'Longitude'])\n",
    "X = combined_df[['Longitude']]\n",
    "y = combined_df['Latitude']\n",
    "\n",
    "bins = [-float('inf'), 49.25, 49.30, float('inf')]\n",
    "labels = ['Low', 'Medium', 'High']\n",
    "y_binned = pd.cut(y, bins=bins, labels=labels)\n",
    "\n",
    "scaler = Binarizer()\n",
    "X_scaled = scaler.fit_transform(X)\n",
    "\n",
    "X_train, X_test, y_train, y_test = train_test_split(X_scaled, y_binned, test_size=0.2, random_state=42)\n",
    "\n",
    "model = LogisticRegression()\n",
    "model.fit(X_train, y_train)\n",
    "\n",
    "y_pred = model.predict(X_test)\n",
    "\n",
    "print(confusion_matrix(y_test, y_pred))\n",
    "print(classification_report(y_test, y_pred))"
   ]
  },
  {
   "cell_type": "code",
   "execution_count": null,
   "metadata": {},
   "outputs": [],
   "source": []
  }
 ],
 "metadata": {
  "kernelspec": {
   "display_name": "Python 3",
   "language": "python",
   "name": "python3"
  },
  "language_info": {
   "codemirror_mode": {
    "name": "ipython",
    "version": 3
   },
   "file_extension": ".py",
   "mimetype": "text/x-python",
   "name": "python",
   "nbconvert_exporter": "python",
   "pygments_lexer": "ipython3",
   "version": "3.11.9"
  }
 },
 "nbformat": 4,
 "nbformat_minor": 4
}
