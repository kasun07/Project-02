{
 "cells": [
  {
   "cell_type": "markdown",
   "metadata": {},
   "source": [
    "Build a regression model."
   ]
  },
  {
   "cell_type": "markdown",
   "metadata": {},
   "source": [
    "Provide model output and an interpretation of the results. "
   ]
  },
  {
   "cell_type": "code",
   "execution_count": null,
   "metadata": {},
   "outputs": [],
   "source": [
    "import requests\n",
    "import pandas as pd\n",
    "import statsmodels.api as sm\n",
    "import matplotlib.pyplot as plt\n",
    "\n",
    "url = \"http://api.citybik.es/v2/networks\"\n",
    "response = requests.get(url)\n",
    "\n",
    "if response.status_code == 200:\n",
    "    response_data = response.json()\n",
    "    networks = response_data.get('networks', [])\n",
    "    vancouver_network = None\n",
    "    \n",
    "    for i in networks:\n",
    "        if i['location']['city'].lower() == 'vancouver':\n",
    "            vancouver_network = i\n",
    "            break\n",
    "    \n",
    "    if vancouver_network:\n",
    "        network_id = vancouver_network['id']\n",
    "        details_url = f\"http://api.citybik.es/v2/networks/{network_id}\"\n",
    "        details_response = requests.get(details_url)\n",
    "        \n",
    "        if details_response.status_code == 200:\n",
    "            vancouver_details = details_response.json()\n",
    "            stations = vancouver_details['network']['stations']\n",
    "            \n",
    "            data = [{'Name': station['name'], 'Latitude': station['latitude'], 'Longitude': station['longitude']} for station in stations]\n",
    "            df1 = pd.DataFrame(data)\n",
    "        else:\n",
    "            raise Exception(f\"Failed to retrieve details for Vancouver network: {details_response.status_code}\")\n",
    "    else:\n",
    "        raise Exception(\"Vancouver network not found.\")\n",
    "else:\n",
    "    raise Exception(f\"Failed to retrieve data: {response.status_code}\")\n",
    "\n",
    "headers = {\n",
    "    \"Accept\": \"application/json\",\n",
    "    \"Authorization\": \"fsq3XRUAarAkYkZaUxo7U14qSYIS91CYwbt1bF94/FymeqU=\"\n",
    "}\n",
    "\n",
    "url = \"https://api.foursquare.com/v3/places/search\"\n",
    "params = {\n",
    "    'radius': 100000,\n",
    "    'll': '49.262487,-123.114397',\n",
    "    'categories': '13065,13056', \n",
    "    'fields': 'name,geocodes'\n",
    "}\n",
    "\n",
    "response = requests.get(url, headers=headers, params=params)\n",
    "\n",
    "if response.status_code == 200:\n",
    "    response_data = response.json()\n",
    "    places = response_data.get('results', [])\n",
    "    \n",
    "    dining_and_drinking = [\n",
    "        {\n",
    "            'Name': place.get('name'),\n",
    "            'Latitude': place['geocodes']['main']['latitude'] if 'geocodes' in place and 'main' in place['geocodes'] else None,\n",
    "            'Longitude': place['geocodes']['main']['longitude'] if 'geocodes' in place and 'main' in place['geocodes'] else None\n",
    "        }\n",
    "        for place in places\n",
    "    ]\n",
    "    \n",
    "    df2 = pd.DataFrame(dining_and_drinking)\n",
    "else:\n",
    "    raise Exception(f\"Error: {response.status_code}, {response.text}\")\n",
    "\n",
    "df1['Type'] = 'Bike Station'\n",
    "df2['Type'] = 'Restaurant/Bar'\n",
    "combined_df = pd.concat([df1, df2])\n",
    "\n",
    "combined_df = combined_df.dropna(subset=['Latitude', 'Longitude'])\n",
    "X = combined_df[['Longitude']]\n",
    "y = combined_df['Latitude']\n",
    "\n",
    "X = sm.add_constant(X)\n",
    "\n",
    "model = sm.OLS(y, X).fit()\n",
    "\n",
    "print(model.summary())\n",
    "\n",
    "plt.figure(figsize=(10, 6))\n",
    "plt.scatter(combined_df['Longitude'], combined_df['Latitude'], c='blue', label='Data Points')\n",
    "plt.plot(combined_df['Longitude'], model.predict(X), color='red', linewidth=2, label='Regression Line')\n",
    "plt.xlabel('Longitude')\n",
    "plt.ylabel('Latitude')\n",
    "plt.title('OLS Regression Line for Latitude vs Longitude')\n",
    "plt.legend()\n",
    "plt.grid(True)\n",
    "plt.show()"
   ]
  },
  {
   "cell_type": "markdown",
   "metadata": {},
   "source": [
    "# Stretch"
   ]
  },
  {
   "cell_type": "markdown",
   "metadata": {},
   "source": [
    "How can you turn the regression model into a classification model?"
   ]
  },
  {
   "cell_type": "code",
   "execution_count": null,
   "metadata": {},
   "outputs": [],
   "source": [
    "import pandas as pd\n",
    "from sklearn.model_selection import train_test_split\n",
    "from sklearn.linear_model import LogisticRegression\n",
    "from sklearn.metrics import classification_report, confusion_matrix\n",
    "from sklearn.preprocessing import Binarizer\n",
    "\n",
    "# Assuming df1 and df2 are already created and combined_df is prepared\n",
    "\n",
    "# Prepare features and target variable\n",
    "combined_df = combined_df.dropna(subset=['Latitude', 'Longitude'])\n",
    "X = combined_df[['Longitude']]\n",
    "y = combined_df['Latitude']\n",
    "\n",
    "bins = [-float('inf'), 49.25, 49.30, float('inf')]\n",
    "labels = ['Low', 'Medium', 'High']\n",
    "y_binned = pd.cut(y, bins=bins, labels=labels)\n",
    "\n",
    "scaler = Binarizer()\n",
    "X_scaled = scaler.fit_transform(X)\n",
    "\n",
    "X_train, X_test, y_train, y_test = train_test_split(X_scaled, y_binned, test_size=0.2, random_state=42)\n",
    "\n",
    "model = LogisticRegression()\n",
    "model.fit(X_train, y_train)\n",
    "\n",
    "y_pred = model.predict(X_test)\n",
    "\n",
    "print(confusion_matrix(y_test, y_pred))\n",
    "print(classification_report(y_test, y_pred))"
   ]
  }
 ],
 "metadata": {
  "kernelspec": {
   "display_name": "Python 3",
   "language": "python",
   "name": "python3"
  },
  "language_info": {
   "codemirror_mode": {
    "name": "ipython",
    "version": 3
   },
   "file_extension": ".py",
   "mimetype": "text/x-python",
   "name": "python",
   "nbconvert_exporter": "python",
   "pygments_lexer": "ipython3",
   "version": "3.8.5"
  }
 },
 "nbformat": 4,
 "nbformat_minor": 4
}
