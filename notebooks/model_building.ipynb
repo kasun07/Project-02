{
 "cells": [
  {
   "cell_type": "markdown",
   "metadata": {},
   "source": [
    "Build a regression model."
   ]
  },
  {
   "cell_type": "markdown",
   "metadata": {},
   "source": [
    "Provide model output and an interpretation of the results. "
   ]
  },
  {
   "cell_type": "code",
   "execution_count": null,
   "metadata": {},
   "outputs": [],
   "source": [
    "import requests\n",
    "import pandas as pd\n",
    "import statsmodels.api as sm\n",
    "\n",
    "url = \"http://api.citybik.es/v2/networks\"\n",
    "response = requests.get(url)\n",
    "\n",
    "if response.status_code == 200:\n",
    "    response_data = response.json()\n",
    "    networks = response_data.get('networks', [])\n",
    "    vancouver_network = None\n",
    "    for network in networks:\n",
    "        if network['location']['city'].lower() == 'vancouver':\n",
    "            vancouver_network = network\n",
    "            break\n",
    "\n",
    "    if vancouver_network:\n",
    "        network_id = vancouver_network['id']\n",
    "        details_url = f\"http://api.citybik.es/v2/networks/{network_id}\"\n",
    "        details_response = requests.get(details_url)\n",
    "        \n",
    "        if details_response.status_code == 200:\n",
    "            vancouver_details = details_response.json()\n",
    "            stations_in_vancouver = vancouver_details.get('network', {}).get('stations', [])\n",
    "        else:\n",
    "            print(f\"Failed to retrieve details for Vancouver network: {details_response.status_code}\")\n",
    "    else:\n",
    "        print(\"Vancouver network not found.\")\n",
    "else:\n",
    "    print(f\"Failed to retrieve data: {response.status_code}\")\n",
    "\n",
    "foursquare_headers = {\n",
    "    \"accept\": \"application/json\",\n",
    "    \"Authorization\": \"fsq3XRUAarAkYkZaUxo7U14qSYIS91CYwbt1bF94/FymeqU=\"\n",
    "}\n",
    "foursquare_url = \"https://api.foursquare.com/v3/places/search\"\n",
    "\n",
    "station_data = []\n",
    "\n",
    "for station in stations_in_vancouver:\n",
    "    latitude = station['latitude']\n",
    "    longitude = station['longitude']\n",
    "    params = {\n",
    "        'll': f'{latitude},{longitude}',\n",
    "        'radius': 1000,\n",
    "        'categories': '13065,13027'\n",
    "    }\n",
    "    response = requests.get(foursquare_url, headers=foursquare_headers, params=params)\n",
    "    \n",
    "    if response.status_code == 200:\n",
    "        data = response.json()\n",
    "        places = data.get('results', [])\n",
    "        num_places = len(places)\n",
    "        station_data.append({\n",
    "            'Latitude': latitude,\n",
    "            'Longitude': longitude,\n",
    "            'Number of Restaurants and Bars': num_places\n",
    "        })\n",
    "    else:\n",
    "        print(f\"Failed to retrieve data from Foursquare API: {response.status_code}\")\n",
    "\n",
    "df = pd.DataFrame(station_data)\n",
    "\n",
    "df['Number of Bike Stations'] = [1] * len(df)\n",
    "\n",
    "X = df[['Number of Restaurants and Bars']]\n",
    "X = sm.add_constant(X)\n",
    "y = df['Number of Bike Stations']\n",
    "\n",
    "ols_model = sm.OLS(y, X).fit()\n",
    "\n",
    "print(ols_model.summary())\n",
    "\n",
    "df['Predicted Number of Bike Stations'] = ols_model.predict(X)\n",
    "\n",
    "most_suitable_location = df.loc[df['Predicted Number of Bike Stations'].idxmax()]\n",
    "\n",
    "print(\"Most Suitable Location:\")\n",
    "print(most_suitable_location)"
   ]
  },
  {
   "cell_type": "markdown",
   "metadata": {},
   "source": [
    "# Stretch"
   ]
  },
  {
   "cell_type": "markdown",
   "metadata": {},
   "source": [
    "How can you turn the regression model into a classification model?"
   ]
  },
  {
   "cell_type": "code",
   "execution_count": null,
   "metadata": {},
   "outputs": [],
   "source": [
    "import pandas as pd\n",
    "from sklearn.model_selection import train_test_split\n",
    "from sklearn.linear_model import LogisticRegression\n",
    "from sklearn.metrics import classification_report, confusion_matrix\n",
    "from sklearn.preprocessing import Binarizer\n",
    "\n",
    "# Assuming df1 and df2 are already created and combined_df is prepared\n",
    "\n",
    "# Prepare features and target variable\n",
    "combined_df = combined_df.dropna(subset=['Latitude', 'Longitude'])\n",
    "X = combined_df[['Longitude']]\n",
    "y = combined_df['Latitude']\n",
    "\n",
    "bins = [-float('inf'), 49.25, 49.30, float('inf')]\n",
    "labels = ['Low', 'Medium', 'High']\n",
    "y_binned = pd.cut(y, bins=bins, labels=labels)\n",
    "\n",
    "scaler = Binarizer()\n",
    "X_scaled = scaler.fit_transform(X)\n",
    "\n",
    "X_train, X_test, y_train, y_test = train_test_split(X_scaled, y_binned, test_size=0.2, random_state=42)\n",
    "\n",
    "model = LogisticRegression()\n",
    "model.fit(X_train, y_train)\n",
    "\n",
    "y_pred = model.predict(X_test)\n",
    "\n",
    "print(confusion_matrix(y_test, y_pred))\n",
    "print(classification_report(y_test, y_pred))"
   ]
  }
 ],
 "metadata": {
  "kernelspec": {
   "display_name": "Python 3",
   "language": "python",
   "name": "python3"
  },
  "language_info": {
   "codemirror_mode": {
    "name": "ipython",
    "version": 3
   },
   "file_extension": ".py",
   "mimetype": "text/x-python",
   "name": "python",
   "nbconvert_exporter": "python",
   "pygments_lexer": "ipython3",
   "version": "3.11.9"
  }
 },
 "nbformat": 4,
 "nbformat_minor": 4
}
